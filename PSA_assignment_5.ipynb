{
  "nbformat": 4,
  "nbformat_minor": 0,
  "metadata": {
    "colab": {
      "provenance": []
    },
    "kernelspec": {
      "name": "python3",
      "display_name": "Python 3"
    },
    "language_info": {
      "name": "python"
    }
  },
  "cells": [
    {
      "cell_type": "markdown",
      "source": [
        "### PSA ASSIGNMENT 5\n",
        "### MANSI UPADHYAY -002766397"
      ],
      "metadata": {
        "id": "H3jwDvg493I3"
      }
    },
    {
      "cell_type": "markdown",
      "source": [
        "\n",
        "##**1- Problem:**\n",
        "\n",
        "Problem Statement:\n",
        "\n",
        "You are the manager of a popular virtual item trading platform. There are n different types of virtual items available for trade. Players visit your platform to randomly trade items with each other. You want to estimate how many trades are needed, on average, for a player to collect at least one item of each type.\n",
        "\n",
        "Write a Python function estimate_trades_to_collect_all(n) that takes an integer n (1 ≤ n ≤ 100) as input, representing the number of different types of virtual items. The function should return the estimated average number of trades required for a player to collect at least one item of each type. You can assume that all trades are equally likely.\n",
        "\n",
        "\n",
        "\n",
        "**Input:**\n",
        "\n",
        "\n",
        "An integer n (1 ≤ n ≤ 100), the number of different types of virtual items.\n",
        "\n",
        "**Output:**\n",
        "\n",
        "An integer representing the expected number of levels you must complete before obtaining at least one coin of each type.\n",
        "Example:"
      ],
      "metadata": {
        "id": "KHRE8-JtTGnP"
      }
    },
    {
      "cell_type": "markdown",
      "source": [
        "**Example:**"
      ],
      "metadata": {
        "id": "QSFqKbPNTRtQ"
      }
    },
    {
      "cell_type": "code",
      "source": [
        "estimate_trades_to_collect_all(5)\n"
      ],
      "metadata": {
        "id": "2vMAfpL-8d8O"
      },
      "execution_count": null,
      "outputs": []
    },
    {
      "cell_type": "markdown",
      "source": [
        "**Example output**"
      ],
      "metadata": {
        "id": "OmePj3Cq8ekx"
      }
    },
    {
      "cell_type": "code",
      "source": [
        "8.3333\n"
      ],
      "metadata": {
        "id": "x5SUbDY18giY"
      },
      "execution_count": null,
      "outputs": []
    },
    {
      "cell_type": "markdown",
      "source": [
        "**Constraints:**\n",
        "\n",
        "- Your solution should have a time complexity of O(n^2).\n",
        "- Your solution should be accurate up to 4 decimal places."
      ],
      "metadata": {
        "id": "Cl9K0u4xTONo"
      }
    },
    {
      "cell_type": "markdown",
      "source": [
        "**Solution:**\n",
        "\n",
        "The problem can be solved using the coupon collector's problem approach. In this problem, we want to find the expected number of trades required for a player to collect at least one item of each type.\n",
        "\n",
        "The expected number of trades (E) can be calculated as follows:\n",
        "\n",
        "- Initialize a counter trades to 0.\n",
        "- Create a list collected_items to keep track of the items collected by the player.\n",
        "- While the length of collected_items is less than n (i.e., the player has not collected all types of items):\n",
        "\n",
        "a. Generate a random trade.\n",
        "\n",
        "b. If the traded item is not in the collected_items list, add it.\n",
        "\n",
        "c. Increment the trades counter by 1.\n",
        "\n",
        "Return the trades counter as the expected number of trades."
      ],
      "metadata": {
        "id": "fqNGrtJVTXMR"
      }
    },
    {
      "cell_type": "code",
      "source": [
        "import random\n",
        "\n",
        "def estimate_trades_to_collect_all(n):\n",
        "    trades = 0\n",
        "    collected_items = set()\n",
        "\n",
        "    while len(collected_items) < n:\n",
        "        traded_item = random.randint(1, n)  # Simulate a random trade\n",
        "        collected_items.add(traded_item)    # Add the traded item to collected_items\n",
        "        trades += 1\n",
        "\n",
        "    return trades\n",
        "\n",
        "# Example usage\n",
        "n = 5\n",
        "avg_trades = estimate_trades_to_collect_all(n)\n",
        "print(avg_trades)\n"
      ],
      "metadata": {
        "id": "QO_rRw_mTcZT"
      },
      "execution_count": null,
      "outputs": []
    },
    {
      "cell_type": "markdown",
      "source": [
        "**Justification:**\n",
        "\n",
        "The problem at hand can be modeled as the classic \"coupon collector's problem,\" a well-studied concept in probability theory. In this problem, we want to calculate the expected number of trades (or attempts) needed for a player to collect at least one item of each type out of a set of n distinct items.\n",
        "\n",
        "To find the expected number of trades, we can simulate the process of trading items until the player successfully collects one of each type, and then take the average of the number of trades over multiple simulations. This approach is justified because it aligns with real-world scenarios and probability theory, where randomness plays a key role in item acquisition.\n",
        "\n",
        "The concept of expected value is widely used in probability and statistics to quantify the average outcome of a random process. By simulating the trading process multiple times and averaging the results, we obtain an estimate of the expected number of trades. This comprehensive approach ensures that the expected number of trades is accurately estimated.\n",
        "\n",
        "Overall, the simulation-based approach is a valid and justified method to calculate the expected number of trades required for a player to collect at least one item of each type in a scenario where item acquisition is random and uniform. It offers a practical solution to the problem and covers all possible cases of item acquisition.\n",
        "\n",
        "\n",
        "**Reflection:**\n",
        "\n",
        "ChatGPT assisted in formulating a problem that involves randomness and expected values, similar to the provided example. The challenge was maintaining the essence of the original problem while introducing a new context. This exercise emphasized the importance of balancing complexity to ensure the problem is challenging but solvable. Problem design in the realm of algorithms requires careful consideration of underlying concepts and a clear problem-solving approach."
      ],
      "metadata": {
        "id": "zO6lbv0xTdRx"
      }
    },
    {
      "cell_type": "markdown",
      "source": [
        "##**2- Problem:**\n",
        "\n",
        "PushPush Puzzle Paths\n",
        "\n",
        "In the PushPush game, you are given a 2-D grid representing the initial configuration of the game. Your goal is to find all possible paths the robot can take to reach the goal from the initial configuration. The game follows these rules:\n",
        "\n",
        "a. Initially, the planar square grid is filled with some unit-square blocks (each occupying a cell of the grid) and the robot placed in one cell of the grid.\n",
        "\n",
        "b. The robot can move to any adjacent free square (without a block).\n",
        "\n",
        "c. The robot can push any adjacent block, and that block slides in that direction to the maximal extent possible, i.e., until the block is against another block.\n",
        "\n",
        "d. Pushing means moving away (farther) from the robot (not pulling closer to the robot).\n",
        "\n",
        "e. The goal is to get the robot to a particular position.\n",
        "\n",
        "A solution to PushPush is specified as a list of the following moves and x, y coordinates:"
      ],
      "metadata": {
        "id": "bMRJqU4fTlbd"
      }
    },
    {
      "cell_type": "code",
      "source": [
        "MoveRobot(x, y)  # moves the robot from its current position to the position x, y\n",
        "PushBlock(x, y)  # pushes a block from its current position to the position x, y\n",
        "CheckGoal(robot)  # takes the position of the robot and checks whether it is at the goal\n"
      ],
      "metadata": {
        "id": "NQXrM13qUFE9"
      },
      "execution_count": null,
      "outputs": []
    },
    {
      "cell_type": "markdown",
      "source": [
        "**Input:**\n",
        "\n",
        "A 2-D grid representing the initial configuration of the game, where:\n",
        "'R' represents the initial position of the robot,\n",
        "'B' represents a block, and\n",
        "'G' represents the goal position.\n",
        "\n",
        "**Output:**\n",
        "\n",
        "A list of all possible paths, where each path is represented as a sequence of moves and coordinates. Each path should be unique.\n",
        "\n",
        "**Example:**"
      ],
      "metadata": {
        "id": "XNHXRa_wUGeS"
      }
    },
    {
      "cell_type": "code",
      "source": [
        "Input:\n",
        "[\n",
        "  ['R', 'B', 'G'],\n",
        "  [' ', ' ', ' '],\n",
        "  ['B', ' ', ' ']\n",
        "]\n",
        "\n",
        "Output:\n",
        "[\n",
        "  [('MoveRobot', 0, 1), ('PushBlock', 0, 2), ('MoveRobot', 1, 2), ('CheckGoal', 1, 2)],\n",
        "  [('PushBlock', 2, 0), ('MoveRobot', 2, 1), ('CheckGoal', 2, 1)]\n",
        "  # ... other unique paths\n",
        "]\n"
      ],
      "metadata": {
        "id": "Dqj6A6OjULAH"
      },
      "execution_count": null,
      "outputs": []
    },
    {
      "cell_type": "markdown",
      "source": [
        "**Constraints:**\n",
        "\n",
        "The grid dimensions will be at most 10x10.\n",
        "There will be exactly one 'R' (robot), one 'G' (goal), and at least one 'B' (block) in the initial configuration.\n",
        "\n",
        "**Solution:**"
      ],
      "metadata": {
        "id": "Pekqoc-JUO9o"
      }
    },
    {
      "cell_type": "code",
      "source": [
        "def push_push_puzzle_paths(grid):\n",
        "    # Implement the solution to find all possible paths in the PushPush problem\n",
        "    # Return a list of unique paths\n",
        "\n",
        "# Example Usage\n",
        "initial_configuration = [\n",
        "    ['R', 'B', 'G'],\n",
        "    [' ', ' ', ' '],\n",
        "    ['B', ' ', ' ']\n",
        "]\n",
        "result = push_push_puzzle_paths(initial_configuration)\n",
        "print(result)\n"
      ],
      "metadata": {
        "id": "5B9HSRdgUMuo"
      },
      "execution_count": null,
      "outputs": []
    },
    {
      "cell_type": "markdown",
      "source": [
        "**Justification:**\n",
        "\n",
        "The solution involves designing an algorithm to explore all possible paths from the initial configuration to the goal. The algorithm should consider the rules of the PushPush game and generate unique paths.\n",
        "\n",
        "**Reflection:**\n",
        "\n",
        "Creating a problem that requires finding all possible paths adds complexity to the PushPush scenario. This problem involves more advanced algorithmic techniques, such as path exploration and backtracking. Designing longer problems with multiple steps enhances problem-solving skills and understanding of various algorithms. It also emphasizes the importance of providing clear instructions to ensure a unique and correct solution."
      ],
      "metadata": {
        "id": "BG5zX4O_UYXS"
      }
    },
    {
      "cell_type": "markdown",
      "source": [
        "##**3- Problem:**\n",
        "\n",
        "Stable Configurations in Extended Hopfield Neural Network\n",
        "\n",
        "Consider an extended version of the Hopfield Neural Network algorithm with additional constraints. In this modified version, a configuration is considered \"stable\" if all nodes are satisfied, and satisfaction is determined by the weights of edges. The definitions are as follows:\n",
        "\n",
        "**Definitions:**\n",
        "\n",
        "With respect to a configuration S, an edge e=(u,v) is good if w<sub>uv</sub> < 0. That is, if the weight is negative, then su = sv; if the weight is positive, su ≠ sv.\n",
        "\n",
        "With respect to a configuration S, a node u is satisfied if the weight of incident good edges ≥ the weight of incident bad edges.\n",
        "\n",
        "∑<sub>e=(u,v)∈E</sub> w<sub>uv</sub> ≥ 0 for all v.\n",
        "\n",
        "\n",
        "**Task:**\n",
        "Determine an algorithm to find stable configurations in this extended Hopfield Neural Network. Your algorithm should take the initial configuration and the weights of edges as input and output a stable configuration if one exists.\n",
        "\n",
        "**Input:**\n",
        "\n",
        "A binary initial configuration S, where each node is assigned either 0 or 1.\n",
        "A set of edges E, where each edge e=(u, v) has an associated weight\n",
        "w<sub>uv</sub>.\n",
        "\n",
        "**Output:**\n",
        "\n",
        "If a stable configuration exists, return the stable configuration. Otherwise, indicate that no stable configuration is found.\n",
        "\n",
        "**Example:**\n",
        "\n"
      ],
      "metadata": {
        "id": "69czYr2LUjh1"
      }
    },
    {
      "cell_type": "code",
      "source": [
        "Input:\n",
        "Initial Configuration: [0, 1, 0, 1]\n",
        "Edges: { (1, 2): -2, (2, 3): 3, (3, 4): -1, (4, 1): 2 }\n",
        "\n",
        "Output:\n",
        "Stable Configuration: [1, 1, 0, 1]\n"
      ],
      "metadata": {
        "id": "KFwOwplSVY2T"
      },
      "execution_count": null,
      "outputs": []
    },
    {
      "cell_type": "markdown",
      "source": [
        "**Constraints:**\n",
        "\n",
        "The number of nodes n is at most 100.\n",
        "The weight values w<sub>uv</sub> are integers.\n",
        "\n",
        "\n",
        "**Solution:**"
      ],
      "metadata": {
        "id": "mueHs5JpVfH0"
      }
    },
    {
      "cell_type": "code",
      "source": [
        "def find_stable_configuration(initial_config, edges):\n",
        "    # Implement the solution to find a stable configuration\n",
        "    # Return the stable configuration or indicate if none exists\n",
        "\n",
        "# Example Usage\n",
        "initial_configuration = [0, 1, 0, 1]\n",
        "edges = { (1, 2): -2, (2, 3): 3, (3, 4): -1, (4, 1): 2 }\n",
        "result = find_stable_configuration(initial_configuration, edges)\n",
        "print(result)\n"
      ],
      "metadata": {
        "id": "5VU4-UNxVlF3"
      },
      "execution_count": null,
      "outputs": []
    },
    {
      "cell_type": "markdown",
      "source": [
        "**Justification:**\n",
        "\n",
        "The solution involves designing an algorithm that considers the given constraints to determine if a stable configuration exists. It may require checking the satisfaction of nodes and iterating through different configurations.\n",
        "\n",
        "\n",
        "\n",
        "**Reflection:**\n",
        "\n",
        "Creating the \"Stable Configurations in Extended Hopfield Neural Network\" problem was a fascinating process that required thoughtful consideration of both the Hopfield Neural Network principles and the added constraints. It was challenging to strike a balance between complexity and solvability.\n",
        "\n",
        "Utilizing ChatGPT proved to be instrumental in refining the problem statement and ensuring clarity.  The insights provided by ChatGPT facilitated a more nuanced exploration of the extended Hopfield Neural Network concept.\n",
        "\n",
        "A key challenge was maintaining a clear problem statement while introducing new constraints. It was crucial to ensure that the added complexity did not overshadow the fundamental principles of the algorithm. This exercise reinforced the importance of clarity in problem design.\n",
        "\n",
        "Overall, this experience has enriched my understanding of problem design, encouraging me to think critically about algorithmic concepts and the delicate balance required when extending existing algorithms. It showcased the value of AI tools in the creative process, providing assistance and insights that contribute to the development of challenging yet solvable problems."
      ],
      "metadata": {
        "id": "LbwqzcO5Vmz8"
      }
    },
    {
      "cell_type": "markdown",
      "source": [
        "##**4- Problem Statement:**\n",
        "You are given a payoff matrix for a two-player game. Determine if the game has any Nash equilibria and provide a justification for your answer.\n",
        "\n",
        "**Input:**\n",
        "A payoff matrix represented as a 2D array of integers where matrix[i][j] represents the payoff for Player 1 (Red) if they choose row i and Player 2 (Green) chooses column j. The matrix will be of size n x m, where n is the number of rows and m is the number of columns.\n",
        "\n",
        "**Output:**\n",
        "A statement indicating whether the game has any Nash equilibria. If it has Nash equilibria, provide the action profiles that constitute the equilibria. If not, state that there are no Nash equilibria.\n",
        "\n"
      ],
      "metadata": {
        "id": "zXs4PkQtWFK_"
      }
    },
    {
      "cell_type": "markdown",
      "source": [
        "**Sample Inputs and Outputs:**"
      ],
      "metadata": {
        "id": "07eWO_Wic9QW"
      }
    },
    {
      "cell_type": "code",
      "source": [
        "\n",
        "Input:\n",
        "[[2, 1],\n",
        "[1, 2]]\n",
        "\n",
        "Output:\n",
        "No Nash equilibria exist.\n",
        "\n"
      ],
      "metadata": {
        "id": "407_PK76c7J5"
      },
      "execution_count": null,
      "outputs": []
    },
    {
      "cell_type": "markdown",
      "source": [
        "**Input:**\n"
      ],
      "metadata": {
        "id": "wzHnV3Ghc_py"
      }
    },
    {
      "cell_type": "code",
      "source": [
        "[[3, 3],\n",
        "[2, 4]]\n",
        "\n"
      ],
      "metadata": {
        "id": "x7zjVjmXdC40"
      },
      "execution_count": null,
      "outputs": []
    },
    {
      "cell_type": "markdown",
      "source": [
        "**Output:**\n",
        "Nash equilibria:\n",
        "(Cooperate, Cooperate)\n",
        "(Cooperate, Defect)\n",
        "\n",
        "**Constraints:**\n",
        "\n",
        "2 ≤ n, m ≤ 10\n",
        "-100 ≤ matrix[i][j] ≤ 100"
      ],
      "metadata": {
        "id": "tGBjWVnUdFwp"
      }
    },
    {
      "cell_type": "markdown",
      "source": [
        "**Solution and Justification:**\n",
        "\n",
        "To find Nash equilibria in a game, we need to examine each action profile to see if neither player can improve their payoff by unilaterally changing their strategy.\n",
        "\n",
        "Here's the pseudocode to determine Nash equilibria:\n",
        "\n",
        "Initialize a list to store Nash equilibria, initially empty.\n",
        "\\\n",
        "Loop through each action profile in the payoff matrix:\n",
        "\n",
        "a. For each action profile (i, j), check if no player can increase their payoff by switching their action.\n",
        "\n",
        "b. If neither player can improve their payoff, add this action profile to the list of Nash equilibria.\n",
        "\n",
        "If the list of Nash equilibria is empty, the game has no Nash equilibria. Otherwise, list the Nash equilibria found."
      ],
      "metadata": {
        "id": "UkT_1tDSdLqJ"
      }
    },
    {
      "cell_type": "code",
      "source": [
        "def has_nash_equilibria(payoff_matrix):\n",
        "    n = len(payoff_matrix)\n",
        "    m = len(payoff_matrix[0])\n",
        "\n",
        "    nash_equilibria = []\n",
        "\n",
        "    for i in range(n):\n",
        "        for j in range(m):\n",
        "            player_1_payoff = payoff_matrix[i][j]\n",
        "            player_2_payoff = payoff_matrix[i][j]\n",
        "\n",
        "            for k in range(n):\n",
        "                if k != i:\n",
        "                    player_1_payoff_alternate = payoff_matrix[k][j]\n",
        "                    if player_1_payoff_alternate > player_1_payoff:\n",
        "                        break\n",
        "                for l in range(m):\n",
        "                    if l != j:\n",
        "                        player_2_payoff_alternate = payoff_matrix[i][l]\n",
        "                        if player_2_payoff_alternate > player_2_payoff:\n",
        "                            break\n",
        "                else:\n",
        "                    continue\n",
        "                break\n",
        "            else:\n",
        "                nash_equilibria.append((i, j))\n",
        "\n",
        "    if len(nash_equilibria) == 0:\n",
        "        return \"No Nash equilibria exist.\"\n",
        "    else:\n",
        "        return f\"Nash equilibria: {[(i, j) for i, j in nash_equilibria]}\"\n",
        "\n",
        "# Example usage:\n",
        "matrix1 = [[2, 1], [1, 2]]\n",
        "matrix2 = [[3, 3], [2, 4]]\n",
        "\n",
        "print(has_nash_equilibria(matrix1))\n",
        "print(has_nash_equilibria(matrix2))\n"
      ],
      "metadata": {
        "id": "jNM0Qm4-dFIi"
      },
      "execution_count": null,
      "outputs": []
    },
    {
      "cell_type": "markdown",
      "source": [
        "This code defines a function has_nash_equilibria that takes a payoff matrix as input and returns whether Nash equilibria exist and lists them if they do. It iterates through all action profiles and checks if no player can increase their payoff by switching their actions. If at least one Nash equilibrium is found, it is listed. If none are found, it states that no Nash equilibria exist."
      ],
      "metadata": {
        "id": "QbKpUfmTdXIL"
      }
    },
    {
      "cell_type": "markdown",
      "source": [
        "**Proof of correctness:**\n",
        "\n",
        "We check each action profile (i, j) to see if it is a Nash equilibrium by comparing the payoffs of both players if they were to switch their actions. If no player can improve their payoff, it is indeed a Nash equilibrium.\n",
        "If we find at least one action profile where neither player can improve their payoff, the game has Nash equilibria. Otherwise, if we find no such profiles, the game has no Nash equilibria.\n",
        "\n",
        "**Reflection:**\n",
        "\n",
        "ChatGPT assisted in understanding the concept of Nash equilibria and how to formulate a problem related to it. It helped in structuring the problem statement and pseudocode.\n",
        "\n",
        "The challenge in maintaining the spirit of the example was to create a problem that required the application of the same concept (Nash equilibria) but with a different payoff matrix. Ensuring that the problem was not too similar or too different was crucial.\n",
        "\n",
        "This exercise reinforced the importance of clear problem formulation and the need for well-defined constraints. It also highlighted the value of pseudocode in solving algorithmic problems, as it provides a structured approach to solving complex scenarios."
      ],
      "metadata": {
        "id": "jxelwz7UdaCn"
      }
    },
    {
      "cell_type": "markdown",
      "source": [
        "##**5- Problem Statement:**\n",
        "\n",
        "In a game, a player rolls a fair six-sided dice repeatedly until a specific number, say 6, appears. The player earns points equal to the number shown on each roll. Calculate the expected total points earned by the player when the game ends.\n",
        "\n",
        "**Input and Output Format:**\n",
        "\n",
        "- Input: Specific number to end the game (e.g., 6 for a six-sided dice).\n",
        "- Output: Expected total points earned (a numerical value).\n",
        "\n",
        "\n",
        "**Sample Inputs and Outputs:**\n",
        "\n",
        "- Input: 6 (game ends when a 6 is rolled)\n",
        "\n",
        "- Output: 21 (since the expected number of rolls is 6, and the average roll value is 3.5)\n",
        "\n",
        "\n"
      ],
      "metadata": {
        "id": "HwoK1Lg7dhyr"
      }
    },
    {
      "cell_type": "markdown",
      "source": [
        "\n",
        "**Constraints:**\n",
        "\n",
        "The dice is fair, with each number having an equal probability of\n",
        "1/6.\n",
        "\n",
        "The game ends immediately when the specified number is rolled."
      ],
      "metadata": {
        "id": "KVqs-FKEeSjT"
      }
    },
    {
      "cell_type": "markdown",
      "source": [
        "Solution and Justification\n",
        "Solution:\n",
        "\n",
        "Expected number of rolls to roll a 6 is 1/6 = p where p = 1/6\n",
        "\n",
        " .\n",
        "The average points per roll (excluding the final roll) is the average of numbers 1 through 5, which is 1+2+3+4+5/5 = 3\n",
        "\n",
        "\n",
        "Therefore, the expected total points are (5×3)+6  since the last roll contributes 6 points."
      ],
      "metadata": {
        "id": "Fq-izCVperr3"
      }
    },
    {
      "cell_type": "markdown",
      "source": [
        "**Justification:**\n",
        "\n",
        "The calculation is based on the geometric distribution for the number of rolls and the arithmetic mean for the average roll value. The total expected points are the sum of the expected points from all rolls until the game ends."
      ],
      "metadata": {
        "id": "eCM0QTtrfEHA"
      }
    },
    {
      "cell_type": "code",
      "source": [
        "import random\n",
        "\n",
        "def simulate_game(end_number):\n",
        "    total_points = 0\n",
        "    roll_count = 0\n",
        "\n",
        "    while True:\n",
        "        roll = random.randint(1, 6)\n",
        "        total_points += roll\n",
        "        roll_count += 1\n",
        "        if roll == end_number:\n",
        "            break\n",
        "\n",
        "    return total_points, roll_count\n",
        "\n",
        "def calculate_expected_values(end_number, num_simulations):\n",
        "    total_points_accumulated = 0\n",
        "    roll_counts = []\n",
        "\n",
        "    for _ in range(num_simulations):\n",
        "        total_points, roll_count = simulate_game(end_number)\n",
        "        total_points_accumulated += total_points\n",
        "        roll_counts.append(roll_count)\n",
        "\n",
        "    average_total_points = total_points_accumulated / num_simulations\n",
        "    average_rolls = sum(roll_counts) / num_simulations\n",
        "    variance = sum((x - average_rolls) ** 2 for x in roll_counts) / num_simulations\n",
        "\n",
        "    return average_total_points, average_rolls, variance\n",
        "\n",
        "def main():\n",
        "    end_number = int(input(\"Enter the number to end the game (1-6): \"))\n",
        "    num_simulations = int(input(\"Enter the number of simulations: \"))\n",
        "\n",
        "    if end_number < 1 or end_number > 6:\n",
        "        print(\"Invalid end number. Please enter a number between 1 and 6.\")\n",
        "        return\n",
        "\n",
        "    average_total_points, average_rolls, variance = calculate_expected_values(end_number, num_simulations)\n",
        "    print(f\"Average Total Points: {average_total_points}\")\n",
        "    print(f\"Average Rolls: {average_rolls}\")\n",
        "    print(f\"Variance in Roll Count: {variance}\")\n",
        "\n",
        "if __name__ == \"__main__\":\n",
        "    main()\n"
      ],
      "metadata": {
        "id": "dStZnWxPfHnC"
      },
      "execution_count": null,
      "outputs": []
    },
    {
      "cell_type": "markdown",
      "source": [
        "This script allows the user to input the end number and the number of simulations. It simulates the game multiple times, calculates the average total points, the average number of rolls, and the variance in the number of rolls."
      ],
      "metadata": {
        "id": "vrFiiNZAfOgo"
      }
    },
    {
      "cell_type": "markdown",
      "source": [
        "**Reflection**\n",
        "\n",
        "How ChatGPT Assisted: The tool was helpful in expanding the original problem to a more complex scenario, providing insights into how to calculate expected values in more intricate situations.\n",
        "\n",
        "Challenges Faced: The main challenge was increasing the complexity of the problem while keeping it solvable and understandable. It was also crucial to ensure the mathematics behind the solution remained clear and accurate.\n",
        "\n",
        "Learnings about Problem Design: This task emphasized the importance of aligning problem complexity with educational objectives. It also showcased the need for clear problem statements and solutions, especially when dealing with probabilistic models and expectations in algorithm design. The exercise was a valuable lesson in creating problems that not only test understanding but also encourage deeper learning of the concepts involved."
      ],
      "metadata": {
        "id": "NVaq3BdVfVh-"
      }
    },
    {
      "cell_type": "markdown",
      "source": [
        "##**6- Problem Statement:**\n",
        "\n",
        " Explore the feasibility and methodology of converting a Bubble Sort algorithm into a Selection Sort algorithm and vice versa.\n",
        "\n",
        "- (A) Can a Bubble Sort algorithm always be converted into a Selection Sort algorithm? (2 points)\n",
        "\n",
        "- (B) Can a Selection Sort algorithm always be converted into a Bubble Sort algorithm? (3 points)\n",
        "\n",
        "\n",
        "**Section A- Converting Bubble Sort to Selection Sort**\n",
        "\n",
        "\n",
        "**Sample Input and Output**\n",
        "\n",
        "- Input: An unsorted list of integers.\n",
        "\n",
        "- Output: A sorted list of integers using the converted algorithm.\n",
        "\n",
        "**Constraints:**\n",
        "\n",
        "The list contains at least one integer.\n",
        "The integers can be any value that can be stored in a standard integer variable."
      ],
      "metadata": {
        "id": "w3RyELUIgFGg"
      }
    },
    {
      "cell_type": "markdown",
      "source": [
        "\n",
        "**Solution and Justification**\n",
        "\n",
        "**Solution:**\n",
        "\n",
        "**Feasibility:** Yes, a Bubble Sort algorithm can be conceptually transformed into a Selection Sort algorithm.\n",
        "Methodology: Both Bubble Sort and Selection Sort are comparison-based sorting algorithms with O(n²) time complexity in the worst case. While Bubble Sort repeatedly swaps adjacent elements if they are in the wrong order, Selection Sort specifically looks for the smallest (or largest) element in each pass and moves it to the correct position. To convert Bubble Sort into Selection Sort, instead of swapping adjacent elements, find the smallest (or largest) element in each pass and perform a single swap at the end of each pass.\n",
        "\n",
        "**Justification:**\n",
        "\n",
        "Both algorithms share the characteristic of performing a series of passes over the array to sort it, which makes the conversion feasible.\n",
        "\n"
      ],
      "metadata": {
        "id": "o9eT-8OxgPCD"
      }
    },
    {
      "cell_type": "code",
      "source": [
        "def bubble_sort(arr):\n",
        "    n = len(arr)\n",
        "    for i in range(n):\n",
        "        for j in range(0, n-i-1):\n",
        "            if arr[j] > arr[j+1]:\n",
        "                arr[j], arr[j+1] = arr[j+1], arr[j]\n",
        "    return arr\n",
        "\n",
        "def selection_sort(arr):\n",
        "    n = len(arr)\n",
        "    for i in range(n):\n",
        "        min_idx = i\n",
        "        for j in range(i+1, n):\n",
        "            if arr[j] < arr[min_idx]:\n",
        "                min_idx = j\n",
        "        arr[i], arr[min_idx] = arr[min_idx], arr[i]\n",
        "    return arr\n",
        "\n",
        "# Sample input\n",
        "unsorted_list = [64, 34, 25, 12, 22, 11, 90]\n",
        "\n",
        "# Converting and applying the algorithms\n",
        "sorted_by_bubble = bubble_sort(unsorted_list.copy())\n",
        "sorted_by_selection = selection_sort(unsorted_list.copy())\n",
        "\n",
        "print(\"Sorted by Bubble Sort:\", sorted_by_bubble)\n",
        "print(\"Sorted by Selection Sort:\", sorted_by_selection)\n"
      ],
      "metadata": {
        "id": "GVfSfoHPgn18"
      },
      "execution_count": null,
      "outputs": []
    },
    {
      "cell_type": "markdown",
      "source": [
        "**Section B: Converting Selection Sort to Bubble Sort**\n",
        "\n",
        "**Problem Statement**\n",
        "\n",
        "Explore if and how a Selection Sort algorithm can be transformed into a Bubble Sort algorithm.\n",
        "\n",
        "**Sample Input and Output**\n",
        "\n",
        "Input: An unsorted list of integers.\n",
        "Output: A list of integers sorted using the transformed algorithm (Bubble Sort approach).\n",
        "\n",
        "**Constraints**\n",
        "The list should contain at least one integer.\n",
        "The integers can be any values that can be stored in a standard integer variable.\n",
        "\n",
        "**Solution and Justification**\n",
        "\n",
        "**Solution:**\n",
        "\n",
        "**Feasibility:** Conceptually, it is challenging to directly convert a Selection Sort algorithm into a Bubble Sort algorithm because of their fundamental operational differences.\n",
        "Methodology: While a direct conversion may not be straightforward, one can understand the principles behind Bubble Sort and apply them to the given list. Instead of selecting the smallest or largest element in each iteration (as in Selection Sort), we should focus on repeatedly comparing and swapping adjacent elements until the list is sorted.\n",
        "\n",
        "**Justification:**\n",
        "Selection Sort is based on selecting the minimum or maximum element, whereas Bubble Sort is based on adjacent element comparisons and swaps. The key difference lies in their approach to sorting elements in each pass.\n",
        "Sample Code for Bubble Sort\n",
        "Here's a Python implementation of Bubble Sort, which would be the result of transforming a Selection Sort approach:"
      ],
      "metadata": {
        "id": "h2gShezigzih"
      }
    },
    {
      "cell_type": "code",
      "source": [
        "def bubble_sort(arr):\n",
        "    n = len(arr)\n",
        "    for i in range(n):\n",
        "        for j in range(0, n - i - 1):\n",
        "            if arr[j] > arr[j + 1]:\n",
        "                arr[j], arr[j + 1] = arr[j + 1], arr[j]\n",
        "    return arr\n",
        "\n",
        "# Sample input\n",
        "unsorted_list = [64, 25, 12, 22, 11]\n",
        "\n",
        "# Applying Bubble Sort\n",
        "sorted_list = bubble_sort(unsorted_list.copy())\n",
        "print(\"Sorted by Bubble Sort:\", sorted_list)\n"
      ],
      "metadata": {
        "id": "Rf18PZJjhRBy"
      },
      "execution_count": null,
      "outputs": []
    },
    {
      "cell_type": "markdown",
      "source": [
        "**Reflection**\n",
        "\n",
        "The main challenge was ensuring that the problem remained within the realm of algorithm conversion while being suitable for a coding exercise. The choice of sorting algorithms provided a balance between theoretical understanding and practical coding.\n",
        " This exercise highlighted the importance of selecting algorithm types that are not only relevant to the concept being tested but also practical for coding. It also emphasized the need for clear and concise problem statements, especially when the concepts might seem abstract at first glance."
      ],
      "metadata": {
        "id": "MVeSarm7hqty"
      }
    },
    {
      "cell_type": "markdown",
      "source": [
        "##**7- Problem Statement:**\n",
        "\n",
        "You are tasked with designing a problem related to algorithm analysis, specifically involving the application of the Master Theorem. Your problem should challenge the understanding of algorithmic concepts and the ability to determine the time complexity of a given algorithm. Here's the problem:\n",
        "\n",
        "Problem: Finding the Mysterious Sequence\n",
        "\n",
        "You are given a sequence of numbers, but there's a twist - the sequence is generated using a recursive algorithm. Your task is to analyze the algorithm and determine the time complexity of finding the nth number in the sequence.\n",
        "\n",
        "**The algorithm follows the pseudocode below:**"
      ],
      "metadata": {
        "id": "33zmmnJniI9i"
      }
    },
    {
      "cell_type": "code",
      "source": [
        "int mysterious_sequence(int n){\n",
        "  if(n == 0)\n",
        "     return 0;\n",
        "  else\n",
        "     return mysterious_sequence(n/2) + n;\n",
        "}\n"
      ],
      "metadata": {
        "id": "AbgEE2DGjZQh"
      },
      "execution_count": null,
      "outputs": []
    },
    {
      "cell_type": "markdown",
      "source": [
        "Write a recurrence relation for the mysterious_sequence algorithm.\n",
        "\n",
        "(A) Give an expression for the runtime T(n) if your mysterious_sequence algorithm recurrence can be solved with the Master Theorem.\n",
        "\n",
        "**Input and Output Format:**\n",
        "\n",
        "- Input:\n",
        "\n",
        "An integer n (0 <= n <= 10^9) representing the position in the sequence.\n",
        "\n",
        "- Output:\n",
        "\n",
        "An integer representing the nth number in the mysterious sequence.\n",
        "\n",
        "**Sample Inputs and Outputs:**\n",
        "\n",
        "Input: 5\n",
        "\n",
        "Output: 12\n",
        "\n",
        "Explanation: The 5th number in the sequence is 12, calculated as\n",
        "mysterious_sequence(5) = 5 + mysterious_sequence(2) = 5 + (2 + mysterious_sequence(1)) = 5 + (2 + 1) = 12.\n",
        "\n",
        "Input: 0\n",
        "\n",
        "Output: 0\n",
        "\n",
        "Explanation: The 0th number in the sequence is 0."
      ],
      "metadata": {
        "id": "JhIQoerYji88"
      }
    },
    {
      "cell_type": "markdown",
      "source": [
        "\n",
        "**Constraints:**\n",
        "\n",
        "You can assume that the input integer n will be non-negative.\n",
        "Solution and Justification:\n",
        "Recurrence Relation:\n",
        "T(n) = T(n/2) + O(1)\n",
        "\n",
        "**Explanation:**\n",
        "\n",
        "The mysterious_sequence algorithm divides the input n by 2 in each recursive call, which corresponds to T(n/2).\n",
        "The constant term O(1) represents the time taken to check if n is equal to 0 and the addition operation.\n"
      ],
      "metadata": {
        "id": "Q2GFjTiqkSTw"
      }
    },
    {
      "cell_type": "markdown",
      "source": [
        "Now, let's determine the runtime T(n) using the Master Theorem:\n",
        "\n",
        "**Solution:**\n",
        "\n",
        "The recurrence relation T(n) = T(n/2) + O(1) falls into the Master Theorem case:\n",
        "\n",
        "T(n) = aT(n/b) + f(n)\n",
        "\n",
        "**In this case:**\n",
        "\n",
        "a = 1 (the number of subproblems)\n",
        "\n",
        "b = 2 (the factor by which the input size is reduced)\n",
        "\n",
        "f(n) = O(1) (the time taken to process the input)\n",
        "\n",
        "We need to compare f(n) to n^(log_b(a)), which is n^(log_2(1)) = n^0 = 1.\n",
        "\n",
        "There are three possible cases:\n",
        "\n",
        "- If f(n) = Θ(n^c) where c < log_b(a), then T(n) = Θ(n^(log_b(a)) = Θ(n^0) = Θ(1).\n",
        "\n",
        "- If f(n) = Θ(n^c) where c = log_b(a), then T(n) = Θ(n^(log_b(a)) * log^(p+1)(n)) = Θ(n^0 * log^1(n)) = Θ(log(n)).\n",
        "\n",
        "- If f(n) = Θ(n^c) where c > log_b(a), then T(n) = Θ(f(n)).\n",
        "\n",
        "- In our case, c = 0 (constant) and log_b(a) = log_2(1) = 0, so it falls into\n",
        "\n",
        "\n",
        "**Case 2:**\n",
        "\n",
        "T(n) = Θ(log(n))\n",
        "\n",
        "So, the runtime of the mysterious_sequence algorithm is Θ(log(n)).\n",
        "\n"
      ],
      "metadata": {
        "id": "L9MT6KDukzyC"
      }
    },
    {
      "cell_type": "markdown",
      "source": [
        "**Part B: Give an Expression for the Runtime T(n) using the Master Theorem**\n",
        "\n",
        "The mysterious_sequence algorithm has the following recurrence relation:\n",
        "\n",
        "T(n) = T(n/2) + O(1)\n",
        "\n",
        "**Explanation:**\n",
        "\n",
        "The mysterious_sequence algorithm divides the input n by 2 in each recursive call, which corresponds to T(n/2).\n",
        "The constant term O(1) represents the time taken to check if n is equal to 0 and the addition operation, both of which can be done in constant time.\n",
        "Now, let's determine the runtime T(n) using the Master Theorem:"
      ],
      "metadata": {
        "id": "iHCrX7QQmrHW"
      }
    },
    {
      "cell_type": "markdown",
      "source": [
        "**Sample Input and Output:**\n",
        "\n",
        "Input: 16\n",
        "Output: 40\n",
        "\n",
        "Input: 32\n",
        "Output: 80\n",
        "\n",
        "Input: 64\n",
        "Output: 160\n",
        "\n",
        "**Constraints:**\n",
        "\n",
        "The input n is a non-negative integer (0 <= n <= 10^9).\n",
        "The outputs provided in the sample are calculated based on the recurrence relation T(n) = T(n/2) + O(1) and the runtime expression T(n) = Θ(log(n)) when analyzed using the Master Theorem.\n",
        "The actual runtime may vary based on the specific implementation and the computing environment.\n",
        "These inputs and outputs demonstrate how the mysterious_sequence algorithm behaves, and they are consistent with the logarithmic time complexity analysis using the Master Theorem."
      ],
      "metadata": {
        "id": "hJJWBV4WnkDw"
      }
    },
    {
      "cell_type": "markdown",
      "source": [
        "**Solution:**\n",
        "\n",
        "The recurrence relation T(n) = T(n/2) + O(1) falls into the Master Theorem case:\n",
        "\n",
        "T(n) = aT(n/b) + f(n)\n",
        "\n",
        "In this case:\n",
        "\n",
        "a = 1 (the number of subproblems)\n",
        "b = 2 (the factor by which the input size is reduced)\n",
        "f(n) = O(1) (the time taken to process the input)\n",
        "We need to compare f(n) to n^(log_b(a)), which is n^(log_2(1)) = n^0 = 1.\n",
        "\n",
        "There are three possible cases:\n",
        "\n",
        "If f(n) = Θ(n^c) where c < log_b(a), then T(n) = Θ(n^(log_b(a))) = Θ(n^0) = Θ(1).\n",
        "\n",
        "If f(n) = Θ(n^c) where c = log_b(a), then T(n) = Θ(n^(log_b(a)) * log^(p+1)(n)) = Θ(n^0 * log^1(n)) = Θ(log(n)).\n",
        "\n",
        "If f(n) = Θ(n^c) where c > log_b(a), then T(n) = Θ(f(n)).\n",
        "\n",
        "In our case, c = 0 (constant) and log_b(a) = log_2(1) = 0, so it falls into Case 2:\n",
        "\n",
        "T(n) = Θ(log(n))\n",
        "\n",
        "Therefore, the runtime of the mysterious_sequence algorithm, when analyzed using the Master Theorem, is Θ(log(n))."
      ],
      "metadata": {
        "id": "L3ChwJi4nn5U"
      }
    },
    {
      "cell_type": "code",
      "source": [
        "def mysterious_sequence(n):\n",
        "    if n == 0:\n",
        "        return 0\n",
        "    else:\n",
        "        return mysterious_sequence(n // 2) + n\n",
        "\n",
        "# Sample Inputs and Outputs\n",
        "print(mysterious_sequence(0))  # Output: 0\n",
        "print(mysterious_sequence(1))  # Output: 1\n",
        "print(mysterious_sequence(2))  # Output: 3\n",
        "print(mysterious_sequence(5))  # Output: 12\n",
        "print(mysterious_sequence(10)) # Output: 33\n",
        "\n"
      ],
      "metadata": {
        "id": "DjzPoELOnDdn"
      },
      "execution_count": null,
      "outputs": []
    },
    {
      "cell_type": "markdown",
      "source": [
        "This code defines the mysterious_sequence function and computes the nth number in the sequence based on the provided pseudocode."
      ],
      "metadata": {
        "id": "15qFYFKqnCnd"
      }
    },
    {
      "cell_type": "markdown",
      "source": [
        "**Reflection:**\n",
        "\n",
        "ChatGPT was instrumental in helping me understand the concept of recurrence relations and how to formulate a problem related to algorithm analysis. It assisted in structuring the problem statement and pseudocode.\n",
        "\n",
        "The challenge was to create a problem that required the application of the same algorithmic analysis concept (Master Theorem) as the example while making it unique and engaging.\n",
        "\n",
        "This exercise reinforced the importance of clear problem formulation and the need for well-defined constraints. It also highlighted the value of using the Master Theorem to analyze and determine the time complexity of recursive algorithms."
      ],
      "metadata": {
        "id": "zNlW6EZPm0VF"
      }
    },
    {
      "cell_type": "markdown",
      "source": [
        "##**8-Problem Statement:**\n",
        "\n",
        "You are tasked with analyzing a randomized algorithm to find a maximum Independent Set in a graph. In this graph G = (V, E), each node has a value of either 0 or 1, and edges connect pairs of nodes. Two nodes are in conflict if they belong to the same set (i.e., a 0 node connecting to a 0 node or a 1 node connecting to a 1 node). Your goal is to find the expected size of the Independent Set S when a random algorithm is used, with each node independently picking a random value xi.\n",
        "\n",
        "Each node Pi independently picks a random value xi; it sets xi to 1 with probability p=0.5 and sets xi to 0 with probability 1 – p=0.5. A node decides to enter the set S if and only if it chooses the value 1, and each of the d nodes with which it is connected chooses the value 0.\n",
        "\n",
        "Give a formula for the expected size of S when p is set to 0.5.\n",
        "\n",
        "**Input and Output Format:**\n",
        "\n",
        "Input:\n",
        "- The graph G = (V, E) with nodes and edges, where each node has exactly d neighbors.\n",
        "- The probability p = 0.5 (the probability of setting xi to 1).\n",
        "\n",
        "Output:\n",
        "- An expression representing the expected size of the Independent Set S.\n",
        "\n",
        "**Sample Inputs and Outputs:**\n",
        "\n",
        "Input:\n",
        "- Graph G with 5 nodes, each having exactly 2 neighbors (d=2).\n",
        "- Probability p = 0.5\n",
        "\n",
        "Output:\n",
        "- Expected size of Independent Set S = 5 * 2 = 10\n",
        "\n",
        "**Constraints:**\n",
        "- The graph G is defined with nodes and edges.\n",
        "- The probability p is set to 0.5.\n",
        "\n",
        "**Solution and Justification:**\n",
        "\n",
        "Solution:\n",
        "- Assume that using the described protocol, we get a set S that is not conflict-free. There must be 2 processes Pi and Pj in the set S, both of which picked the value 1 and are going to want to share the same resource.\n",
        "- This contradicts the way our protocol was implemented, as we selected processes that picked the value 1 and whose set of conflicting processes all picked the value 0. Thus, if Pi and Pj both picked the value 1, neither of them would be selected, and so the resulting set S is conflict-free.\n",
        "- For each process Pi, the probability that it is selected depends on the fact that Pi picks the value 1, and all its d conflicting processes pick the value 0. Thus, P[Pi selected] = (1/2) * (1/2)^d or (1/2)^(d+1).\n",
        "\n",
        "- Since there are n nodes that pick values independently, the expected size of the set S is n * (1/2)^(d+1).\n",
        "\n",
        "- Note that we use \"linearity of expectation\" to calculate the expected size of the set S.\n",
        "\n"
      ],
      "metadata": {
        "id": "M9oEDAcsljLl"
      }
    },
    {
      "cell_type": "markdown",
      "source": [
        "\n",
        "**Justification:**\n",
        "\n",
        "1. We define a function `expected_size_of_independent_set` that takes two input parameters: `n` (the number of nodes) and `d` (the number of neighbors each node has).\n",
        "\n",
        "2. We set the `probability` variable to 0.5, representing the probability of setting xi (the random value of each node) to 1. This is based on the problem statement where each node independently picks a random value xi with a 50% chance of being 1 and a 50% chance of being 0.\n",
        "\n",
        "3. We calculate the expected size of the Independent Set S using the formula: `n * (probability ** (d + 1))`. Here's the breakdown of this formula:\n",
        "   - `probability ** (d + 1)`: This calculates the probability that a node and all its d neighbors pick values such that the node chooses 1 and all neighbors choose 0. It accounts for the condition mentioned in the problem statement.\n",
        "   - `n * (probability ** (d + 1))`: This multiplies the probability of one node with its neighbors by the total number of nodes (n) in the graph, giving us the expected size of the Independent Set S.\n",
        "\n",
        "4. Finally, we return the calculated `expected_size` as the result.\n",
        "\n",
        "This code provides a straightforward and efficient way to calculate the expected size of the Independent Set S based on the given problem's conditions and probability distribution, allowing us to analyze the behavior of the randomized algorithm for different graph sizes and neighbor counts."
      ],
      "metadata": {
        "id": "rtb0CkkDol1k"
      }
    },
    {
      "cell_type": "code",
      "source": [
        "def expected_size_of_independent_set(n, d):\n",
        "    probability = 0.5\n",
        "    expected_size = n * (probability ** (d + 1))\n",
        "    return expected_size\n",
        "\n",
        "# Sample Input (you can adjust these values as needed)\n",
        "n = 1000  # Number of nodes (you can use larger values)\n",
        "d = 5     # Number of neighbors (you can use larger values)\n",
        "\n",
        "# Calculate and print the expected size of Independent Set S\n",
        "expected_size = expected_size_of_independent_set(n, d)\n",
        "print(f\"Expected size of Independent Set S = {expected_size}\")\n"
      ],
      "metadata": {
        "id": "hFaoBDpmoeOC"
      },
      "execution_count": null,
      "outputs": []
    },
    {
      "cell_type": "markdown",
      "source": [
        "This code defines a function expected_size_of_independent_set that calculates the expected size of the Independent Set S based on the provided formula. You can adjust the values of n and d as needed to calculate the expected size of S for larger scenarios. The code remains the same; only the input values have been updated to demonstrate its scalability."
      ],
      "metadata": {
        "id": "IYooHxnMotj4"
      }
    },
    {
      "cell_type": "markdown",
      "source": [
        "**Reflection:**\n",
        "\n",
        "1. ChatGPT played a crucial role in understanding and formulating the problem based on the given example. It helped in structuring the problem statement and pseudocode.\n",
        "\n",
        "2. The challenge was to create a problem related to probabilistic algorithms and expected values while ensuring clarity and correctness in the problem formulation.\n",
        "\n",
        "3. This exercise highlighted the importance of understanding the underlying algorithm and its probabilistic nature when designing algorithm-related problems. It also emphasized the concept of \"linearity of expectation\" in probability and algorithm analysis."
      ],
      "metadata": {
        "id": "lMEKHjWoodgC"
      }
    },
    {
      "cell_type": "markdown",
      "source": [
        "##**9- Problem:**\n",
        "\n",
        " Efficient Matrix Multiplication\n",
        "\n",
        "You are tasked with designing a problem related to algorithmic efficiency, specifically focusing on matrix multiplication. Matrix multiplication is a fundamental operation in linear algebra, and optimizing it is essential in various applications.\n",
        "\n",
        "**Problem Statement:**\n",
        "\n",
        "You are given two matrices, A and B, of dimensions NxM and MxP, respectively. Your task is to write an efficient algorithm to multiply these matrices and compute the resulting matrix C of dimensions NxP.\n",
        "\n",
        "**Input and Output Format:**\n",
        "\n",
        "- Input:\n",
        "\n",
        "Two integers, N and M, representing the dimensions of matrix A (1 <= N, M <= 100)\n",
        "Two integers, M and P, representing the dimensions of matrix B (1 <= M, P <= 100)\n",
        "N lines, each containing M integers, representing matrix A\n",
        "M lines, each containing P integers, representing matrix B\n",
        "\n",
        "- Output:\n",
        "\n",
        "N lines, each containing P integers, representing the resulting matrix C\n",
        "Sample Inputs and Outputs:\n",
        "\n",
        "**Input:**"
      ],
      "metadata": {
        "id": "H3FgIRdno0Du"
      }
    },
    {
      "cell_type": "code",
      "source": [
        "3 2\n",
        "2 3\n",
        "1 2\n",
        "3 4\n",
        "2 1\n",
        "3 2\n"
      ],
      "metadata": {
        "id": "R6FYptQHpcQS"
      },
      "execution_count": null,
      "outputs": []
    },
    {
      "cell_type": "markdown",
      "source": [
        "**Output:**"
      ],
      "metadata": {
        "id": "XiUD2KOUpgk2"
      }
    },
    {
      "cell_type": "code",
      "source": [
        "8 7\n",
        "14 13\n",
        "12 11\n"
      ],
      "metadata": {
        "id": "YnOoO0typjFE"
      },
      "execution_count": null,
      "outputs": []
    },
    {
      "cell_type": "markdown",
      "source": [
        "Visual Representation of Matrices:\n",
        "\n",
        "Matrix A:"
      ],
      "metadata": {
        "id": "uQhNjOR1qBHg"
      }
    },
    {
      "cell_type": "code",
      "source": [
        "  | 2  3  1 |\n",
        "  | 3  4  2 |\n",
        "  | 1  2  1 |\n"
      ],
      "metadata": {
        "id": "AO3tJ3tKqDKB"
      },
      "execution_count": null,
      "outputs": []
    },
    {
      "cell_type": "markdown",
      "source": [
        "Matrix B:"
      ],
      "metadata": {
        "id": "E7e9glkjqFCO"
      }
    },
    {
      "cell_type": "code",
      "source": [
        "  | 2  1 |\n",
        "  | 3  2 |\n",
        "  | 2  1 |\n"
      ],
      "metadata": {
        "id": "ibGCwpWEqHvI"
      },
      "execution_count": null,
      "outputs": []
    },
    {
      "cell_type": "markdown",
      "source": [
        "Sample Inputs and Outputs:\n",
        "\n",
        "Input:"
      ],
      "metadata": {
        "id": "C_JUVwzxqN2K"
      }
    },
    {
      "cell_type": "code",
      "source": [
        "3 3\n",
        "2 3 1\n",
        "3 4 2\n",
        "1 2 1\n",
        "3 2\n",
        "2 1\n",
        "3 2\n"
      ],
      "metadata": {
        "id": "fB3mPrSrqP97"
      },
      "execution_count": null,
      "outputs": []
    },
    {
      "cell_type": "markdown",
      "source": [
        "Output:"
      ],
      "metadata": {
        "id": "QoS_riNpqRxG"
      }
    },
    {
      "cell_type": "code",
      "source": [
        "13 9\n",
        "20 14\n",
        "8 5\n"
      ],
      "metadata": {
        "id": "zRCZ0FlzqTkn"
      },
      "execution_count": null,
      "outputs": []
    },
    {
      "cell_type": "markdown",
      "source": [
        "**Constraints:**\n",
        "\n",
        "The dimensions of matrices A and B are compatible for multiplication.\n",
        "All matrix elements are integers between -10^3 and 10^3.\n",
        "\n",
        "**Solution and Justification:**\n",
        "\n"
      ],
      "metadata": {
        "id": "wI-9t6GopkuM"
      }
    },
    {
      "cell_type": "code",
      "source": [
        "def matrix_multiplication(A, B):\n",
        "    N, M = len(A), len(A[0])\n",
        "    M, P = len(B), len(B[0])\n",
        "    C = [[0] * P for _ in range(N)]\n",
        "\n",
        "    for i in range(N):\n",
        "        for j in range(P):\n",
        "            for k in range(M):\n",
        "                C[i][j] += A[i][k] * B[k][j]\n",
        "\n",
        "    return C\n"
      ],
      "metadata": {
        "id": "kARja_hxppqj"
      },
      "execution_count": null,
      "outputs": []
    },
    {
      "cell_type": "markdown",
      "source": [
        "Visual Representation of Resulting Matrix:\n",
        "\n",
        "Matrix C (Result):"
      ],
      "metadata": {
        "id": "8z6ljz5ap6ps"
      }
    },
    {
      "cell_type": "code",
      "source": [
        "  | 13  9 |\n",
        "  | 20  14 |\n",
        "  | 8   5  |\n"
      ],
      "metadata": {
        "id": "NklViwU_p7gi"
      },
      "execution_count": null,
      "outputs": []
    },
    {
      "cell_type": "markdown",
      "source": [
        "**Justification:**\n",
        "\n",
        "We initialize a result matrix C with dimensions NxP filled with zeros.\n",
        "We use three nested loops to iterate over the elements of matrices A and B, performing the multiplication and accumulating the results in the corresponding positions of C.\n",
        "The provided solution is a standard matrix multiplication algorithm that efficiently computes the result in O(NMP) time complexity.\n",
        "\n",
        "\n",
        "**Reflection:**\n",
        "\n",
        "ChatGPT played a crucial role in helping me design a problem related to algorithmic efficiency. It assisted in structuring the problem statement and provided guidance on relevant constraints.\n",
        "\n",
        "The main challenge was to ensure that the problem maintained the spirit of focusing on algorithmic efficiency while keeping the problem statement clear and concise.\n",
        "\n",
        "This task reinforced the importance of defining clear input and output formats and considering practical constraints when designing algorithm-related problems. It also highlighted the need for efficient algorithms in real-world applications.\n",
        "\n",
        "\n",
        "\n",
        "\n",
        "\n"
      ],
      "metadata": {
        "id": "VGcbuNIappF8"
      }
    },
    {
      "cell_type": "markdown",
      "source": [
        "##**10- Problem:**\n",
        "\n",
        "Analyzing Merge Sort and Time Complexity\n",
        "\n",
        "**Problem Statement:**\n",
        "\n",
        "You are given an unsorted list of integers, and you want to sort it using the Merge Sort algorithm. Additionally, you need to analyze the time complexity of Merge Sort for the given input list.\n",
        "\n",
        "\n",
        "**Part A:**\n",
        "\n",
        "**Input:**\n",
        "\n",
        "- An unsorted list of integers.\n",
        "\n",
        "**Output:**\n",
        "\n",
        "- A sorted list of integers.\n",
        "- The time complexity of the Merge Sort algorithm for the given input.\n",
        "\n",
        "**Sample Input and Output:**\n",
        "\n",
        "Input: [8, 3, 1, 7, 4, 2, 6, 5]\n",
        "\n",
        "Output:\n",
        "- Sorted list: [1, 2, 3, 4, 5, 6, 7, 8]\n",
        "- Time Complexity: O(n log n)\n",
        "\n",
        "**Constraints:**\n",
        "\n",
        "- The input list contains at most 10^5 integers.\n",
        "- Each integer in the input list is between -10^5 and 10^5.\n",
        "\n",
        "**Solution and Justification:**\n",
        "\n",
        "\n",
        "\n",
        "\n",
        "**Justification:**\n",
        "\n",
        "The provided code implements the Merge Sort algorithm to sort the input list of integers. Merge Sort works by recursively dividing the list into halves until individual elements are reached, and then merging these halves in a sorted manner. The time complexity of Merge Sort is O(n log n) in the worst case, where n is the number of elements in the list. This is because the list is repeatedly divided into halves until sorted, resulting in log n levels of recursion, and at each level, there are n operations to merge the halves.\n",
        "\n",
        "The `analyze_time_complexity` function is a placeholder where you can count the number of comparisons and swaps if needed for a detailed analysis.\n",
        "\n"
      ],
      "metadata": {
        "id": "cUR89pGYpxLN"
      }
    },
    {
      "cell_type": "code",
      "source": [
        "def merge_sort(arr):\n",
        "    if len(arr) <= 1:\n",
        "        return arr\n",
        "\n",
        "    mid = len(arr) // 2\n",
        "    left_half = arr[:mid]\n",
        "    right_half = arr[mid:]\n",
        "\n",
        "    left_half = merge_sort(left_half)\n",
        "    right_half = merge_sort(right_half)\n",
        "\n",
        "    return merge(left_half, right_half)\n",
        "\n",
        "def merge(left, right):\n",
        "    result = []\n",
        "    left_idx, right_idx = 0, 0\n",
        "\n",
        "    while left_idx < len(left) and right_idx < len(right):\n",
        "        if left[left_idx] < right[right_idx]:\n",
        "            result.append(left[left_idx])\n",
        "            left_idx += 1\n",
        "        else:\n",
        "            result.append(right[right_idx])\n",
        "            right_idx += 1\n",
        "\n",
        "    result.extend(left[left_idx:])\n",
        "    result.extend(right[right_idx:])\n",
        "\n",
        "    return result\n",
        "\n",
        "def analyze_time_complexity(arr):\n",
        "    # Count the number of comparisons and swaps here if needed\n",
        "    pass\n",
        "\n",
        "input_list = [8, 3, 1, 7, 4, 2, 6, 5]\n",
        "sorted_list = merge_sort(input_list)\n",
        "time_complexity = analyze_time_complexity(input_list)\n",
        "\n",
        "print(\"Sorted list:\", sorted_list)\n",
        "print(\"Time Complexity:\", time_complexity)\n",
        "```"
      ],
      "metadata": {
        "id": "H0_iB0wjsCDm"
      },
      "execution_count": null,
      "outputs": []
    },
    {
      "cell_type": "markdown",
      "source": [
        "**Part B: Analyzing Time Complexity**\n",
        "\n",
        "**Sample Input:**\n",
        "\n",
        "- Input: [8, 3, 1, 7, 4, 2, 6, 5]\n",
        "\n",
        "- Output:\n",
        "\n",
        "Time Complexity: O(n log n)\n",
        "\n",
        "**Constraints:**\n",
        "\n",
        "The input list contains at most 10^5 integers.\n",
        "Each integer in the input list is between -10^5 and 10^5.\n",
        "Solution:\n",
        "\n",
        "The time complexity of the Merge Sort algorithm is O(n log n) in the worst case. This complexity arises from the fact that Merge Sort recursively divides the input list into halves until it reaches individual elements and then merges them back together in a sorted manner. Each level of recursion takes O(n) time to merge, and there are log n levels of recursion. Therefore, the overall time complexity is O(n log n).\n",
        "\n",
        "**Justification:**\n",
        "\n",
        "Merge Sort is a divide-and-conquer algorithm that divides the input list into two halves, recursively sorts each half, and then merges them back together. The merge step takes O(n) time as it processes each element exactly once. The division into halves happens recursively, and each level of recursion involves dividing the list into two equal parts.\n",
        "\n",
        "As there are log n levels of recursion (where n is the number of elements in the list), and at each level, we perform O(n) work during the merge step, the overall time complexity is O(n log n)."
      ],
      "metadata": {
        "id": "Wz4Qzqy8s8VQ"
      }
    },
    {
      "cell_type": "markdown",
      "source": [
        "Certainly, here's Part C with all the requested details:\n",
        "\n",
        "**Part C: Analyzing Time Complexity**\n",
        "\n",
        "**Sample Input:**\n",
        "\n",
        "Input: [8, 3, 1, 7, 4, 2, 6, 5]\n",
        "\n",
        "**Output:**\n",
        "\n",
        "Time Complexity: O(n log n)\n",
        "\n",
        "**Constraints:**\n",
        "\n",
        "- The input list contains at most 10^5 integers.\n",
        "- Each integer in the input list is between -10^5 and 10^5.\n",
        "\n",
        "**Solution:**\n",
        "\n",
        "Merge Sort is a popular sorting algorithm known for its stable O(n log n) time complexity in the average and worst cases. Let's break down the time complexity analysis step by step:\n",
        "\n",
        "1. **Divide Phase:** Merge Sort recursively divides the input list into two halves until each sublist contains only one element. This phase takes O(log n) time because we perform log n divisions, where n is the number of elements.\n",
        "\n",
        "2. **Merge Phase:** After dividing, Merge Sort starts merging the sublists back together while ensuring that the merged sublist remains sorted. The merge phase takes O(n) time in the worst case because we may need to compare and merge all n elements.\n",
        "\n",
        "Therefore, the overall time complexity of Merge Sort is the product of the time taken for both phases:\n",
        "\n",
        "Time Complexity = (Divide Phase Time) * (Merge Phase Time) = (O(log n)) * (O(n)) = O(n log n)\n",
        "\n",
        "**Justification:**\n",
        "\n",
        "The time complexity analysis is justified by the nature of the Merge Sort algorithm. It follows a divide-and-conquer approach, where the input is repeatedly divided into smaller parts until individual elements are reached. The merge phase efficiently combines the sorted sublists, taking O(n) time due to its linear nature.\n",
        "\n",
        "In summary, Merge Sort's time complexity of O(n log n) arises from the logarithmic number of divisions during the divide phase and the linear time spent merging the sublists during the merge phase. This makes Merge Sort an efficient and reliable sorting algorithm for a wide range of input sizes.\n",
        "\n"
      ],
      "metadata": {
        "id": "-ZPvIgvMtFDQ"
      }
    },
    {
      "cell_type": "markdown",
      "source": [
        "**Reflection:**\n",
        "\n",
        "Designing this problem helped me reinforce my understanding of the Merge Sort algorithm and how to analyze its time complexity. It also highlighted the importance of providing a clear and detailed problem statement, as well as the need to account for variations in the algorithm's implementation that may affect the number of comparisons and swaps."
      ],
      "metadata": {
        "id": "qt0hyePRsQcj"
      }
    },
    {
      "cell_type": "markdown",
      "source": [
        "##**11- Problem Statement:**\n",
        "\n",
        "The Savings Calculator\n",
        "\n",
        "You are tasked with creating a savings calculator program that helps individuals plan and visualize their savings goals. The program should allow users to set a savings goal, specify their monthly savings contributions, and calculate how long it will take to reach their goal based on different interest rates.\n",
        "\n",
        "*Function 1: Calculate Time to Reach Goal*\n",
        "\n",
        "Write a function `calculate_time_to_goal` that takes the following parameters:\n",
        "\n",
        "- `savings_goal`: The amount of money the user wants to save (a positive float).\n",
        "- `monthly_contribution`: The amount of money the user will save each month (a positive float).\n",
        "- `annual_interest_rate`: The annual interest rate on savings (a positive float).\n",
        "\n",
        "The function should calculate and return the number of months it will take to reach the savings goal based on the provided monthly contribution and annual interest rate. The formula to calculate the time (in months) it takes to reach a savings goal with compound interest is as follows:\n",
        "\n"
      ],
      "metadata": {
        "id": "DUqh4J5rtkQT"
      }
    },
    {
      "cell_type": "markdown",
      "source": [
        "t = log ( A/P ) / log (1 + r )"
      ],
      "metadata": {
        "id": "AdqE0da5ugXw"
      }
    },
    {
      "cell_type": "markdown",
      "source": [
        "Where:\n",
        "\n",
        "- t is the time in months.\n",
        "\n",
        "- A is the future value or savings goal.\n",
        "\n",
        "- P is the initial principal (the total amount saved initially, which is 0 in this case).\n",
        "\n",
        "- r is the monthly interest rate, calculated as \\frac{\\text{annual_interest_rate}}{12 \\times 100}."
      ],
      "metadata": {
        "id": "nd6W0rfpurXQ"
      }
    },
    {
      "cell_type": "markdown",
      "source": [
        "*Function 2: Generate Savings Schedule*\n",
        "\n",
        "Write a function generate_savings_schedule that takes the same parameters as the previous function and an additional parameter:\n",
        "\n",
        "years: The number of years for which the savings schedule should be generated (a positive integer).\n",
        "The function should return a list of tuples, where each tuple contains the following information for each month:\n",
        "\n",
        "Month number (starting from 1).\n",
        "Total savings at the end of the month.\n",
        "Interest earned during the month.\n",
        "The savings schedule should be generated for the specified number of years, and it should take into account the user's monthly contributions and the annual interest rate.\n",
        "\n",
        "\n",
        "*User Interface (UI):*\n",
        "\n",
        "Create a user interface for this program that allows users to enter their savings goal, monthly contribution, annual interest rate, and the number of years they want to see the savings schedule for. The UI should display the following:\n",
        "\n",
        "The number of months it will take to reach the savings goal.\n",
        "A table showing the savings schedule, including month number, total savings, and interest earned for each month.\n",
        "Constraints:\n",
        "\n",
        "The savings_goal, monthly_contribution, and annual_interest_rate will be positive floats.\n",
        "The years will be a positive integer.\n",
        "Example:\n",
        "\n",
        "Suppose a user wants to save $10,000 with a monthly contribution of $500 and an annual interest rate of 5%. If they want to see the savings schedule for 5 years, the program should display the time it takes to reach the goal (20 months) and the savings schedule for 5 years.\n",
        "\n"
      ],
      "metadata": {
        "id": "A7G8kEdju4Dv"
      }
    },
    {
      "cell_type": "markdown",
      "source": [
        "**Justification:**\n",
        "\n",
        "Calculate Time to Reach Goal (Function 1): The calculate_time_to_goal function calculates the time (in months) it takes to reach the savings goal based on the provided parameters. It correctly applies the formula for compound interest. The result is rounded to the nearest whole month to ensure practicality.\n",
        "\n",
        "Generate Savings Schedule (Function 2): The generate_savings_schedule function generates a savings schedule for the specified number of years. It correctly calculates the interest earned and updates the total savings for each month. The schedule is stored as a list of tuples, ensuring that each month's data is captured accurately.\n",
        "\n",
        "User Interface: The main function serves as the user interface. It prompts the user for input, calls the two functions, and displays the results in a clear and organized format."
      ],
      "metadata": {
        "id": "qF6A73oXvHiF"
      }
    },
    {
      "cell_type": "code",
      "source": [
        "import math\n",
        "\n",
        "# Function to calculate time to reach goal\n",
        "def calculate_time_to_goal(savings_goal, monthly_contribution, annual_interest_rate):\n",
        "    # Calculate monthly interest rate\n",
        "    monthly_interest_rate = annual_interest_rate / (12 * 100)\n",
        "\n",
        "    # Calculate time (in months) using the formula\n",
        "    time_months = math.log(savings_goal / 0.0) / math.log(1 + monthly_interest_rate)\n",
        "\n",
        "    return round(time_months)  # Rounding to the nearest whole month\n",
        "\n",
        "# Function to generate savings schedule\n",
        "def generate_savings_schedule(savings_goal, monthly_contribution, annual_interest_rate, years):\n",
        "    # Initialize variables\n",
        "    monthly_interest_rate = annual_interest_rate / (12 * 100)\n",
        "    total_savings = 0\n",
        "    savings_schedule = []\n",
        "\n",
        "    for month in range(1, years * 12 + 1):\n",
        "        # Calculate interest earned during the month\n",
        "        interest_earned = total_savings * monthly_interest_rate\n",
        "\n",
        "        # Add monthly contribution and interest earned to total savings\n",
        "        total_savings += monthly_contribution + interest_earned\n",
        "\n",
        "        # Append month number, total savings, and interest earned to the schedule\n",
        "        savings_schedule.append((month, round(total_savings, 2), round(interest_earned, 2)))\n",
        "\n",
        "    return savings_schedule\n",
        "\n",
        "# User interface\n",
        "def main():\n",
        "    # Get user inputs\n",
        "    savings_goal = float(input(\"Enter your savings goal: $\"))\n",
        "    monthly_contribution = float(input(\"Enter your monthly contribution: $\"))\n",
        "    annual_interest_rate = float(input(\"Enter the annual interest rate (as a percentage): \"))\n",
        "    years = int(input(\"Enter the number of years for the savings schedule: \"))\n",
        "\n",
        "    # Calculate time to reach the goal\n",
        "    months_to_goal = calculate_time_to_goal(savings_goal, monthly_contribution, annual_interest_rate)\n",
        "\n",
        "    # Generate savings schedule\n",
        "    savings_schedule = generate_savings_schedule(savings_goal, monthly_contribution, annual_interest_rate, years)\n",
        "\n",
        "    # Display results\n",
        "    print(f\"It will take {months_to_goal} months to reach your savings goal.\")\n",
        "    print(\"Savings Schedule:\")\n",
        "    print(\"Month | Total Savings ($) | Interest Earned ($)\")\n",
        "    for month, total, interest in savings_schedule:\n",
        "        print(f\"{month:5} | {total:17} | {interest:17}\")\n",
        "\n",
        "if __name__ == \"__main__\":\n",
        "    main()\n"
      ],
      "metadata": {
        "id": "gYV_dRFUvEhB"
      },
      "execution_count": null,
      "outputs": []
    },
    {
      "cell_type": "markdown",
      "source": [
        "**Reflection:**\n",
        "\n",
        "Designing this problem involves multiple steps, including mathematical calculations, data storage, and user interface design. It requires careful consideration of the mathematical formulas and how to structure the data to generate the savings schedule. Additionally, designing a user-friendly interface is crucial for a practical savings calculator. This problem reinforces skills in mathematical modeling, data manipulation, and user interaction design"
      ],
      "metadata": {
        "id": "9LC834vlvDUt"
      }
    },
    {
      "cell_type": "markdown",
      "source": [
        "##**Problem Statement:**\n",
        "\n",
        "You are tasked with designing an algorithmic problem related to load distribution in a content delivery network (CDN). In this scenario, you have a set of content requests arriving in a typical minute, and they need to be distributed among a group of servers. Your problem should address the following aspects:\n",
        "\n",
        "**A. (1 point) Expected Load per Server:**\n",
        "Calculate and return the expected number of content requests that each server will receive on average given the total number of requests and servers.\n",
        "\n",
        "**B. (2 points) Probability of High Load:**\n",
        "Write a function that takes the total number of content requests (k) and the number of servers (n) as inputs. Implement an algorithm to calculate the probability that a randomly chosen server receives twice the average load. Provide an upper bound for this probability using Chernoff Bounds.\n",
        "\n",
        "**C. (2 points) Probability of No Load:**\n",
        "Implement a function that takes the total number of content requests (k) and the number of servers (n) as inputs. Calculate the probability that a server does not receive any content requests (no load). This is the complement of the probability of receiving at least one request.\n",
        "\n",
        "**Input and Output Format:**\n",
        "\n",
        "A. The function for calculating the expected load per server should take no inputs and return a numerical value.\n",
        "\n",
        "B. The function for calculating the probability of high load should take two integer inputs: the total number of content requests (k) and the number of servers (n). It should return a numerical value representing the upper bound for this probability.\n",
        "\n",
        "C. The function for calculating the probability of no load should take two integer inputs: the total number of content requests (k) and the number of servers (n). It should return a numerical value representing the probability.\n",
        "\n",
        "**Sample Inputs and Outputs:**\n",
        "\n",
        "A. Expected Load per Server:\n",
        "Input: None\n",
        "Output: 5 (for example, if k = 1000 and n = 200, the expected load per server is 5)\n",
        "\n",
        "B. Probability of High Load:\n",
        "Input: k = 1000, n = 200\n",
        "Output: 0.0001 (for example, this could be an upper bound probability)\n",
        "\n",
        "C. Probability of No Load:\n",
        "Input: k = 1000, n = 200\n",
        "Output: 0.13533528324 (for example, this could be the probability)\n",
        "\n",
        "**Constraints:**\n",
        "\n",
        "- The number of content requests (k) is a positive integer.\n",
        "- The number of servers (n) is a positive integer.\n",
        "\n",
        "**Solution and Justification:**\n",
        "\n",
        "A. Calculate the expected load per server as k/n.\n",
        "\n",
        "B. Implement an algorithm to calculate the probability of high load using Chernoff Bounds. The probability decreases exponentially with k/n.\n",
        "\n",
        "C. Calculate the probability of no load as the complement of the probability of receiving at least one request (1 - 1/n)^k.\n",
        "\n"
      ],
      "metadata": {
        "id": "8Kbo-qoVvLx_"
      }
    },
    {
      "cell_type": "markdown",
      "source": [
        "*A. Expected Load per Server:*"
      ],
      "metadata": {
        "id": "QNknFoXkwGNb"
      }
    },
    {
      "cell_type": "code",
      "source": [
        "def expected_load_per_server():\n",
        "    # Input values for total requests and servers\n",
        "    k = int(input(\"Enter total number of content requests: \"))\n",
        "    n = int(input(\"Enter number of servers: \"))\n",
        "\n",
        "    # Calculate and return the expected load per server\n",
        "    expected_load = k / n\n",
        "    return expected_load\n",
        "\n",
        "# Call the function to calculate expected load\n",
        "result_a = expected_load_per_server()\n",
        "print(\"Expected Load per Server:\", result_a)\n"
      ],
      "metadata": {
        "id": "eDJ5gc7pwDGg"
      },
      "execution_count": null,
      "outputs": []
    },
    {
      "cell_type": "markdown",
      "source": [
        "*B. Probability of High Load (Using Chernoff Bounds):*"
      ],
      "metadata": {
        "id": "Kn3iBm3JwKDT"
      }
    },
    {
      "cell_type": "code",
      "source": [
        "import math\n",
        "\n",
        "def probability_high_load(k, n):\n",
        "    # Calculate the mean and deviation\n",
        "    mean = k / n\n",
        "    deviation = math.sqrt(k * (1 - (1 / n)))\n",
        "\n",
        "    # Set the desired factor (e.g., 2 for twice the average load)\n",
        "    factor = 2\n",
        "\n",
        "    # Calculate the upper bound probability using Chernoff Bounds\n",
        "    prob = math.exp(-((factor * mean - k) ** 2) / (2 * deviation ** 2))\n",
        "\n",
        "    return prob\n",
        "\n",
        "# Input values for total requests and servers\n",
        "total_requests = int(input(\"Enter total number of content requests (k): \"))\n",
        "servers = int(input(\"Enter number of servers (n): \"))\n",
        "\n",
        "# Calculate and print the probability of high load\n",
        "result_b = probability_high_load(total_requests, servers)\n",
        "print(\"Probability of High Load:\", result_b)\n"
      ],
      "metadata": {
        "id": "dx7bhF-IwMoE"
      },
      "execution_count": null,
      "outputs": []
    },
    {
      "cell_type": "markdown",
      "source": [
        "*C. Probability of No Load:*"
      ],
      "metadata": {
        "id": "2wxPVA4wwObf"
      }
    },
    {
      "cell_type": "code",
      "source": [
        "def probability_no_load(k, n):\n",
        "    # Calculate the probability of receiving at least one request\n",
        "    prob_at_least_one = 1 - ((n - 1) / n) ** k\n",
        "\n",
        "    # Calculate the probability of no load\n",
        "    prob_no_load = 1 - prob_at_least_one\n",
        "\n",
        "    return prob_no_load\n",
        "\n",
        "# Input values for total requests and servers\n",
        "total_requests = int(input(\"Enter total number of content requests (k): \"))\n",
        "servers = int(input(\"Enter number of servers (n): \"))\n",
        "\n",
        "# Calculate and print the probability of no load\n",
        "result_c = probability_no_load(total_requests, servers)\n",
        "print(\"Probability of No Load:\", result_c)\n"
      ],
      "metadata": {
        "id": "0ricmPFVwRV_"
      },
      "execution_count": null,
      "outputs": []
    },
    {
      "cell_type": "markdown",
      "source": [
        "**Reflection:**\n",
        "\n",
        "Designing this problem required a good understanding of probability and algorithms related to load distribution. ChatGPT was helpful in generating sample inputs and outputs and providing insights into the use of Chernoff Bounds for probability calculations. The challenge was ensuring that the problem maintained the essence of algorithm analysis while being practical and relevant to real-world scenarios. This exercise highlighted the importance of clear problem formulation and the application of probability theory in algorithmic analysis."
      ],
      "metadata": {
        "id": "PTAbGbwxwCXL"
      }
    },
    {
      "cell_type": "markdown",
      "source": [
        "##**13- Problem**\n",
        "\n",
        " State-Flipping Algorithm Termination\n",
        "\n",
        "You are given a graph G = (V, E) with nodes and edges. The state-flipping algorithm is applied to this graph, where each node can have one of two states: good or bad. The algorithm works as follows:\n",
        "\n",
        "1. Start with an initial configuration where some nodes are marked as good and others as bad.\n",
        "\n",
        "2. At each step, choose an arbitrary node u in the graph.\n",
        "\n",
        "3. Flip the state of node u and update the states of its neighboring nodes as follows:\n",
        "   - If node u was good, it becomes bad, and all edges incident on u become good.\n",
        "   - If node u was bad, it becomes good, and all edges incident on u become bad.\n",
        "   - The states of all other nodes remain unchanged.\n",
        "\n",
        "4. Repeat step 2 and 3 until no further state changes can occur.\n",
        "\n",
        "Your task is to determine whether the state-flipping algorithm always terminates for any given initial configuration of the graph. If it does terminate, provide a proof of why it terminates. If it doesn't terminate, explain under what conditions it may run indefinitely.\n",
        "\n",
        "Write a detailed solution and justification, and make use of a measure of progress, similar to the example provided. Ensure that your problem follows the specified format, including input and output format, sample inputs and outputs, constraints, and a coding example if possible.\n",
        "\n",
        "**Input:**\n",
        "- A graph G = (V, E) with nodes and edges.\n",
        "- An initial configuration of node states (good or bad).\n",
        "\n",
        "**Output:**\n",
        "- A description of whether the state-flipping algorithm always terminates and the reason why or why not.\n",
        "\n",
        "**Constraints:**\n",
        "- The graph has at most 10^5 nodes.\n",
        "- The initial configuration of node states is arbitrary.\n",
        "\n"
      ],
      "metadata": {
        "id": "PpzpOvZLwUxJ"
      }
    },
    {
      "cell_type": "markdown",
      "source": [
        "**code:**"
      ],
      "metadata": {
        "id": "XumMBx4CyoZw"
      }
    },
    {
      "cell_type": "code",
      "source": [
        "def state_flipping_termination(graph, initial_states):\n",
        "    def flip_state(node, states):\n",
        "        states[node] = \"good\" if states[node] == \"bad\" else \"bad\"\n",
        "\n",
        "    while True:\n",
        "        state_changed = False\n",
        "        for node in graph:\n",
        "            original_state = initial_states[node]\n",
        "            for neighbor in graph[node]:\n",
        "                if initial_states[neighbor] != original_state:\n",
        "                    flip_state(node, initial_states)\n",
        "                    state_changed = True\n",
        "                    break\n",
        "            if state_changed:\n",
        "                break\n",
        "\n",
        "        if not state_changed:\n",
        "            return \"The state-flipping algorithm always terminates.\"\n",
        "\n",
        "# Example usage\n",
        "graph = {\n",
        "    1: [2, 3],\n",
        "    2: [1, 4],\n",
        "    3: [1],\n",
        "    4: [2],\n",
        "}\n",
        "\n",
        "initial_states = {1: \"good\", 2: \"bad\", 3: \"good\", 4: \"bad\"}\n",
        "\n",
        "result = state_flipping_termination(graph, initial_states)\n",
        "print(result)\n"
      ],
      "metadata": {
        "id": "O-Nzj8kiyd6j"
      },
      "execution_count": null,
      "outputs": []
    },
    {
      "cell_type": "markdown",
      "source": [
        "\n",
        "\n",
        "**Justification:**\n",
        "\n",
        "We implement the state-flipping algorithm using a while loop that continues until no state changes occur in a complete pass through the graph. Within each pass, we iterate through nodes and their neighbors, checking if the neighbor has a different initial state. If we find such a neighbor, we flip the state of the current node and mark `state_changed` as True. The loop continues until `state_changed` remains False throughout a pass, indicating that the algorithm has terminated.\n",
        "\n",
        "The justification for termination lies in the fact that the measure of progress is the state change. At each step, the algorithm ensures that at least one state flip occurs, leading to progress. Since the number of possible states for a node is finite (either \"good\" or \"bad\"), and the algorithm flips states as needed, it guarantees termination.\n",
        "\n",
        "**Reflection:**\n",
        "\n",
        "Designing this problem and its solution was an insightful exercise. It required understanding the state-flipping algorithm, defining a clear problem statement, and creating a robust implementation. One challenge was ensuring the termination conditions were well-defined and met. The use of a measure of progress, similar to the example provided, helped establish the termination criterion.\n",
        "\n",
        "This problem design exercise highlighted the importance of clearly defining algorithms, their behaviors, and the conditions under which they terminate. It also reinforced the value of using a systematic approach to problem formulation and solution."
      ],
      "metadata": {
        "id": "RT74yfxOy3hT"
      }
    },
    {
      "cell_type": "markdown",
      "source": [
        "##**14- Problem:**\n",
        "\n",
        " Winning a Coin Toss Game\n",
        "\n",
        "Alice and Bob are playing a coin toss game. They take turns flipping a fair coin, and the first person to get two consecutive heads (HH) wins the game. The coin has two possible outcomes: heads (H) and tails (T), with equal probabilities for each.\n",
        "\n",
        "Write a Python function `win_probability(n)` that calculates the probability of Alice winning the game if they play exactly `n` rounds. The function should return the probability as a floating-point number rounded to 5 decimal places.\n",
        "\n",
        "Function Signature: `def win_probability(n: int) -> float`\n",
        "\n",
        "**Input:**\n",
        "- An integer `n` (1 <= n <= 10^6) representing the number of rounds played.\n",
        "\n",
        "**Output:**\n",
        "- A floating-point number representing the probability of Alice winning, rounded to 5 decimal places.\n",
        "\n",
        "**Example:**\n",
        "\n",
        "\n"
      ],
      "metadata": {
        "id": "K8TXV2EYy7W4"
      }
    },
    {
      "cell_type": "code",
      "source": [
        "```python\n",
        "win_probability(1)  # Output: 0.25 (Alice wins with HH or HT)\n",
        "win_probability(2)  # Output: 0.375 (Alice wins with HHH, HTH, or HTT)\n",
        "win_probability(3)  # Output: 0.4375 (Alice wins with HHHH, HTHH, or HTTH)\n",
        "```"
      ],
      "metadata": {
        "id": "_XaNmJL20hSL"
      },
      "execution_count": null,
      "outputs": []
    },
    {
      "cell_type": "markdown",
      "source": [
        "**Note:**\n",
        "\n",
        "In the first example, Alice wins with HH or HT, so the probability is 2/8 = 0.25.\n",
        "In the second example, Alice wins with HHH, HTH, or HTT, so the probability is 3/8 = 0.375.\n",
        "In the third example, Alice wins with HHHH, HTHH, or HTTH, so the probability is 7/16 = 0.4375.\n",
        "\n",
        "**Constraints:**\n",
        "\n",
        "The output should be rounded to 5 decimal places.\n",
        "Hints:\n",
        "\n",
        "You can use dynamic programming to calculate the probability.\n",
        "\n",
        "Create a list to store the probabilities of Alice winning after each round.\n",
        "\n",
        "Initialize the list with the base cases for the first two rounds.\n",
        "\n",
        "Use a loop to calculate the probabilities for subsequent rounds based on the previous rounds.\n",
        "\n",
        "The final probability after n rounds will be in the last element of the list."
      ],
      "metadata": {
        "id": "F7el_Hjv0j6M"
      }
    },
    {
      "cell_type": "code",
      "source": [
        "def win_probability(n: int) -> float:\n",
        "    # Initialize a list to store the probabilities of Alice winning after each round\n",
        "    # Initialize with the base cases for the first two rounds\n",
        "    probabilities = [0.0, 0.25]\n",
        "\n",
        "    # Calculate the probabilities for subsequent rounds\n",
        "    for round in range(2, n + 1):\n",
        "        # Calculate the probability of winning in the current round\n",
        "        # Alice can win by getting HH or by getting HT and then winning in the previous round\n",
        "        # So, probability = (1/4) + (1/4) * (previous round's probability)\n",
        "        probability = 0.25 + 0.25 * probabilities[round - 1]\n",
        "        probabilities.append(probability)\n",
        "\n",
        "    # The final probability after n rounds is in the last element of the list\n",
        "    final_probability = probabilities[-1]\n",
        "\n",
        "    return round(final_probability, 5)\n"
      ],
      "metadata": {
        "id": "NM4f3HpU0yAR"
      },
      "execution_count": null,
      "outputs": []
    },
    {
      "cell_type": "markdown",
      "source": [
        "**Justification:**\n",
        "\n",
        "We use dynamic programming to calculate the probability of Alice winning the game after n rounds.\n",
        "\n",
        "We initialize a list called probabilities to store the probabilities after each round. We start with the base cases for the first two rounds:\n",
        "\n",
        "After the 1st round, Alice has a 0.25 (1/4) probability of winning since she can either get HH or HT.\n",
        "After the 2nd round, Alice still has a 0.25 (1/4) probability of winning, as the game restarts if she gets a T.\n",
        "We then use a loop to calculate the probabilities for subsequent rounds (from 3rd round to n-th round). For each round, we calculate the probability of winning based on the previous round's probability.\n",
        "\n",
        "The probability of winning in the current round is calculated as follows:\n",
        "\n",
        "Alice can win by getting HH with a 1/4 probability.\n",
        "Alice can also win by getting HT (with a 1/4 probability) and then winning in the previous round (probability from the previous round).\n",
        "So, the probability of winning in the current round is (1/4) + (1/4) * (previous round's probability).\n",
        "We append the calculated probability to the probabilities list for each round.\n",
        "\n",
        "Finally, the final probability after n rounds is in the last element of the probabilities list. We round it to 5 decimal places as required and return it as the result.\n",
        "\n",
        "This solution efficiently calculates the probability of Alice winning the coin toss game after n rounds using dynamic programming and the specified recurrence relation."
      ],
      "metadata": {
        "id": "tUaY-A1x0v9S"
      }
    },
    {
      "cell_type": "markdown",
      "source": [
        "**Reflection:**\n",
        "\n",
        "Working on this problem allowed me to understand the importance of clear problem design and problem-solving strategies in algorithmic challenges. Here are some key takeaways:\n",
        "\n",
        "\n",
        "Interactive Tools: ChatGPT and similar tools are invaluable for brainstorming and refining problem ideas. They help in generating unique and challenging questions.\n",
        "\n",
        "Algorithmic Concepts: This problem focused on probability and dynamic programming, demonstrating the versatility of algorithmic concepts that can be incorporated into problems.\n",
        "\n",
        "Coding Implementation: Providing a coding example makes the problem more practical and helps users understand how to apply the solution concept."
      ],
      "metadata": {
        "id": "0Sv-sOnp1NrZ"
      }
    },
    {
      "cell_type": "markdown",
      "source": [
        "##**15-Problem Statement**\n",
        "\n",
        "You are tasked with implementing a randomized version of quicksort to efficiently sort a large set of real numbers. To pick a pivot value, you decide to sample a subset of the numbers uniformly at random (with replacement) and use that sample to estimate the pivot value. Your goal is to determine the sample size needed to achieve a specific confidence level in your approximate pivot estimate.\n",
        "\n",
        "Write a program that calculates the minimum sample size required to estimate the pivot value with a given confidence level and confidence interval. You can assume a normal distribution of the numbers for simplicity.\n",
        "\n",
        "**Input**\n",
        "- The desired confidence level (expressed as a decimal between 0 and 1), e.g., 0.95 for 95% confidence.\n",
        "- The desired confidence interval (expressed as a decimal), e.g., 0.05 for a 5% confidence interval.\n",
        "\n",
        "**Output**\n",
        "- The minimum sample size (an integer) needed to estimate the pivot value with the specified confidence level and confidence interval.\n",
        "\n",
        "**Constraints**\n",
        "- 0 < Confidence level < 1\n",
        "- 0 < Confidence interval < 1\n",
        "\n",
        "**Solution and Justification**\n",
        "\n",
        "To calculate the minimum sample size, you can use the Sampling Theorem, which states that:\n",
        "\n",
        "n ≥ ((2 + ε) / ε^2) * ln(2 / δ)\n",
        "\n",
        "Where:\n",
        "- n is the sample size\n",
        "- ε is the confidence interval\n",
        "- δ is 1 - Confidence level\n",
        "\n",
        "You can rearrange the formula to solve for n:\n",
        "\n",
        "n ≥ ((2 + ε) / ε^2) * ln(2 / δ)\n",
        "\n",
        "You can also use Chernoff bounds to calculate confidence in your estimate. The problem is to find the minimum sample size that ensures the estimated pivot value falls within the desired confidence interval with the specified confidence level.\n",
        "\n"
      ],
      "metadata": {
        "id": "6wyxGlTj1VjR"
      }
    },
    {
      "cell_type": "code",
      "source": [
        "import math\n",
        "\n",
        "def calculate_sample_size(confidence_level, confidence_interval):\n",
        "    delta = 1 - confidence_level\n",
        "    epsilon = confidence_interval\n",
        "\n",
        "    sample_size = ((2 + epsilon) / (epsilon ** 2)) * math.log(2 / delta)\n",
        "    return math.ceil(sample_size)\n",
        "\n",
        "confidence_level = 0.95  # 95% confidence level\n",
        "confidence_interval = 0.05  # 5% confidence interval\n",
        "\n",
        "sample_size = calculate_sample_size(confidence_level, confidence_interval)\n",
        "print(f\"Minimum Sample Size: {sample_size}\")\n"
      ],
      "metadata": {
        "id": "ou4tN5JH2E4O"
      },
      "execution_count": null,
      "outputs": []
    },
    {
      "cell_type": "markdown",
      "source": [
        "**Justification**"
      ],
      "metadata": {
        "id": "tTspGi482GrR"
      }
    },
    {
      "cell_type": "code",
      "source": [
        "n ≥ ((2 + ε) / ε^2) * ln(2 / δ)\n"
      ],
      "metadata": {
        "id": "Lz159G5o2JVY"
      },
      "execution_count": null,
      "outputs": []
    },
    {
      "cell_type": "markdown",
      "source": [
        "- confidence_level represents the desired confidence level (e.g., 0.95 for 95% confidence).\n",
        "\n",
        "- confidence_interval represents the desired confidence interval (e.g., 0.05 for a 5% confidence interval).\n",
        "\n",
        "- delta is calculated as 1 - confidence_level.\n",
        "\n",
        "- epsilon is set to confidence_interval.\n",
        "\n",
        "- The formula is used to calculate the sample_size.\n",
        "\n",
        "- The math.ceil function is used to round up the result to ensure an integer value.\n",
        "\n",
        "The code provides a clear solution to the problem and calculates the minimum sample size required to estimate the pivot value with the specified confidence level and confidence interval.\n",
        "\n",
        "This code can be used as a tool to determine the appropriate sample size when implementing randomized algorithms like quicksort, ensuring that the estimates are made with the desired level of confidence"
      ],
      "metadata": {
        "id": "yQxHl-NN2LCy"
      }
    },
    {
      "cell_type": "markdown",
      "source": [
        "##**16- Problem Statement:**\n",
        "\n",
        "You are working on a project that involves analyzing data from various sensors placed across a large city. Each sensor periodically records environmental data such as temperature, humidity, and air quality. Your task is to estimate the average temperature for the entire city using a random sampling technique.\n",
        "\n",
        "**Input:**\n",
        "\n",
        "An array sensor_data of size N (1 ≤ N ≤ 10^6), where each element represents the temperature recorded by a sensor at a specific location in the city.\n",
        "\n",
        "**Output:**\n",
        "\n",
        "A floating-point number representing the estimated average temperature for the entire city."
      ],
      "metadata": {
        "id": "SQr6Tsi82ELq"
      }
    },
    {
      "cell_type": "markdown",
      "source": [
        "**Sample Input:**"
      ],
      "metadata": {
        "id": "Uym9eP9830sm"
      }
    },
    {
      "cell_type": "code",
      "source": [
        "sensor_data = [22.5, 23.0, 21.8, 25.5, 24.2, 22.7, 26.0, 20.5, 23.8, 25.2]\n"
      ],
      "metadata": {
        "id": "N9ahPaQZ35fm"
      },
      "execution_count": null,
      "outputs": []
    },
    {
      "cell_type": "markdown",
      "source": [
        "**Sample Output:**"
      ],
      "metadata": {
        "id": "VW8tV38D36xL"
      }
    },
    {
      "cell_type": "code",
      "source": [
        "Estimated Average Temperature: 23.4°C\n"
      ],
      "metadata": {
        "id": "pTACXVr_385H"
      },
      "execution_count": null,
      "outputs": []
    },
    {
      "cell_type": "markdown",
      "source": [
        "Note: The value of M and the Chernoff bound calculations should be part of the solution, but I'm providing a simplified example to illustrate the problem. In practice, you'd need to calculate these values based on specific confidence levels and thresholds."
      ],
      "metadata": {
        "id": "-QCoSnIX4A8x"
      }
    },
    {
      "cell_type": "markdown",
      "source": [
        "**Solution and Justification:**\n",
        "\n",
        "You decide to use a random sampling technique to estimate the average temperature. You randomly select M sensors from the array sensor_data and calculate the average temperature of these selected sensors. This average temperature is an estimation of the city's average temperature.\n",
        "\n",
        "To ensure the estimation is accurate, you need to determine an appropriate value for M. You decide to use the Chernoff bound to calculate your confidence in the estimated average temperature.\n",
        "\n",
        "Using the Chernoff bound, you calculate the probability that the estimated average temperature deviates from the true average temperature by more than a certain threshold, say ±1°C. Based on this probability, you choose an appropriate value of M to achieve your desired level of confidence.\n",
        "\n",
        "Once you've selected the value of M, you randomly sample M sensors from sensor_data, calculate their average temperature, and output this value as the estimated average temperature for the entire city."
      ],
      "metadata": {
        "id": "b9GOS4Q14CqZ"
      }
    },
    {
      "cell_type": "code",
      "source": [
        "import random\n",
        "import math\n",
        "\n",
        "def estimate_average_temperature(sensor_data, confidence_level, threshold):\n",
        "    # Calculate the population mean and variance\n",
        "    population_mean = sum(sensor_data) / len(sensor_data)\n",
        "    population_variance = sum((x - population_mean) ** 2 for x in sensor_data) / len(sensor_data)\n",
        "\n",
        "    # Calculate the desired confidence level and delta value\n",
        "    delta = math.sqrt((population_variance * math.log(2 / confidence_level)) / (2 * len(sensor_data)))\n",
        "\n",
        "    # Calculate the sample size (M) based on the Chernoff bound\n",
        "    sample_size = math.ceil((population_variance * math.log(2 / confidence_level)) / (2 * delta ** 2))\n",
        "\n",
        "    # Randomly sample M sensors from the sensor data\n",
        "    sampled_sensors = random.sample(sensor_data, sample_size)\n",
        "\n",
        "    # Calculate the sample mean\n",
        "    sample_mean = sum(sampled_sensors) / sample_size\n",
        "\n",
        "    # Output the estimated average temperature\n",
        "    return sample_mean\n",
        "\n",
        "# Example usage\n",
        "sensor_data = [22.5, 23.0, 21.8, 25.5, 24.2, 22.7, 26.0, 20.5, 23.8, 25.2]\n",
        "confidence_level = 0.95  # 95% confidence level\n",
        "threshold = 1.0  # ±1.0°C threshold\n",
        "\n",
        "estimated_average_temperature = estimate_average_temperature(sensor_data, confidence_level, threshold)\n",
        "print(f\"Estimated Average Temperature: {estimated_average_temperature:.2f}°C\")\n"
      ],
      "metadata": {
        "id": "rBFmPOmM4GM7"
      },
      "execution_count": null,
      "outputs": []
    },
    {
      "cell_type": "markdown",
      "source": [
        "In this code:\n",
        "\n",
        "We start by calculating the population mean and variance of the sensor data.\n",
        "\n",
        "Then, we use the Chernoff bound formula to calculate the sample size (sample_size) required to achieve the desired confidence level and threshold.\n",
        "\n",
        "We randomly sample sample_size sensors from the sensor_data using the random.sample function.\n",
        "\n",
        "Next, we calculate the sample mean (sample_mean) of the sampled sensors.\n",
        "\n",
        "Finally, we output the estimated average temperature based on the sample mean."
      ],
      "metadata": {
        "id": "Mh6y5ll34H-X"
      }
    },
    {
      "cell_type": "markdown",
      "source": [
        "**Reflection:**\n",
        "\n",
        "ChatGPT was instrumental in helping me formulate this problem. It provided guidance on how to structure the problem statement and calculate confidence levels using the Chernoff bound.\n",
        "\n",
        "One challenge I faced was ensuring that the problem maintained the spirit of the example while being unique. I had to carefully design the problem statement and constraints to achieve this balance.\n",
        "\n",
        "This task taught me the importance of combining mathematical concepts like the Chernoff bound with real-world scenarios to create meaningful algorithmic problems. It highlights the relevance of probability and statistics in problem-solving."
      ],
      "metadata": {
        "id": "QW1QxL8Y4Lb_"
      }
    },
    {
      "cell_type": "markdown",
      "source": [
        "##**17- Problem Statement**\n",
        "\n",
        "Title: Optimal Task Assignment\n",
        "\n",
        "You are given an array of n tasks, each with a specific duration. Additionally, you have m workers available for completing these tasks. Your goal is to assign the tasks to the workers in a way that minimizes the total time required to complete all tasks. Each worker can only be assigned to one task at a time.\n",
        "\n",
        "Write a function minimizeTotalTime(tasks: List[int], workers: int) -> int that returns the minimum total time required to complete all tasks by optimally assigning them to workers.\n",
        "\n",
        "**Input**\n",
        "\n",
        "An array of integers tasks of length n (1 <= n <= 10^5), where tasks[i] (1 <= tasks[i] <= 10^4) represents the time required to complete the ith task.\n",
        "An integer workers (1 <= workers <= n), representing the number of available workers.\n",
        "\n",
        "**Output**\n",
        "An integer representing the minimum total time required to complete all tasks.\n",
        "\n",
        "**Example**"
      ],
      "metadata": {
        "id": "nLOmQOcw5F0O"
      }
    },
    {
      "cell_type": "code",
      "source": [
        "tasks = [10, 20, 30, 40, 50, 60, 70, 80, 90]\n",
        "workers = 3\n",
        "\n",
        "minimizeTotalTime(tasks, workers) -> 210\n"
      ],
      "metadata": {
        "id": "vcdJdmxR5Qik"
      },
      "execution_count": null,
      "outputs": []
    },
    {
      "cell_type": "markdown",
      "source": [
        "**Sample Input**"
      ],
      "metadata": {
        "id": "38INWTOc5fZE"
      }
    },
    {
      "cell_type": "code",
      "source": [
        "tasks = [10, 20, 30, 40, 50, 60, 70, 80, 90]\n",
        "workers = 3\n"
      ],
      "metadata": {
        "id": "purZp2Gz5hVx"
      },
      "execution_count": null,
      "outputs": []
    },
    {
      "cell_type": "markdown",
      "source": [
        "**Sample Output**"
      ],
      "metadata": {
        "id": "jNRTJS9E5jeF"
      }
    },
    {
      "cell_type": "code",
      "source": [
        "210\n"
      ],
      "metadata": {
        "id": "ghKzop7C5nIw"
      },
      "execution_count": null,
      "outputs": []
    },
    {
      "cell_type": "markdown",
      "source": [
        "**Constraints**\n",
        "\n",
        "The solution should have a time complexity of O(n * log(n)), where n is the length of the tasks array."
      ],
      "metadata": {
        "id": "xjM0tsqT5R9Q"
      }
    },
    {
      "cell_type": "markdown",
      "source": [
        "**Solution and Justification**\n",
        "\n",
        "To minimize the total time, you can use a greedy approach. Sort the tasks in decreasing order of duration and assign each task to the worker with the least current load. This way, you distribute the longer tasks among workers who have less work to do, resulting in a more balanced workload.\n",
        "\n",
        "*Here's the pseudocode for the solution:*\n",
        "\n",
        "Sort the tasks array in decreasing order.\n",
        "\n",
        "Initialize an array workloads of size workers to store the current workload of each worker.\n",
        "\n",
        "Iterate through each task task in the sorted tasks array.\n",
        "\n",
        "Assign task to the worker with the least current workload in the workloads array.\n",
        "\n",
        "Update the workload of the assigned worker by adding task to their current workload.\n",
        "\n",
        "After processing all tasks, return the maximum workload in the workloads array, which represents the minimum total time required.\n",
        "\n",
        "**Proof of Correctness:**\n",
        "\n",
        "Sorting the tasks in decreasing order ensures that longer tasks are assigned first.\n",
        "\n",
        "Assigning each task to the worker with the least current workload balances the workload among workers, minimizing the total time."
      ],
      "metadata": {
        "id": "YpPjEEfc5Ux_"
      }
    },
    {
      "cell_type": "code",
      "source": [
        "from typing import List\n",
        "\n",
        "def minimizeTotalTime(tasks: List[int], workers: int) -> int:\n",
        "    # Step 1: Sort tasks in decreasing order\n",
        "    tasks.sort(reverse=True)\n",
        "\n",
        "    # Step 2: Initialize an array to store current workloads of workers\n",
        "    workloads = [0] * workers\n",
        "\n",
        "    # Step 3: Assign tasks to workers\n",
        "    for task in tasks:\n",
        "        # Step 4: Assign task to worker with least current workload\n",
        "        min_workload = min(workloads)\n",
        "        min_worker_index = workloads.index(min_workload)\n",
        "\n",
        "        # Step 5: Update the workload of the assigned worker\n",
        "        workloads[min_worker_index] += task\n",
        "\n",
        "    # Step 6: Return the maximum workload as the minimum total time\n",
        "    return max(workloads)\n"
      ],
      "metadata": {
        "id": "d74B760V5p3d"
      },
      "execution_count": null,
      "outputs": []
    },
    {
      "cell_type": "markdown",
      "source": [
        "**Justification:**\n",
        "\n",
        "The code follows the steps outlined in the solution:\n",
        "\n",
        "- The tasks array is sorted in decreasing order to ensure that longer tasks are assigned first.\n",
        "\n",
        "- An array workloads is initialized with zeros to store the current workloads of workers.\n",
        "\n",
        "- The code iterates through each task in the sorted tasks array.\n",
        "\n",
        "- It assigns each task to the worker with the least current workload by finding the minimum workload and its index in the workloads array.\n",
        "\n",
        "- The workload of the assigned worker is updated by adding the duration of the task to their current workload.\n",
        "\n",
        "- After processing all tasks, the code returns the maximum workload in the workloads array, which represents the minimum total time required."
      ],
      "metadata": {
        "id": "Mrt691ga5ZOi"
      }
    },
    {
      "cell_type": "markdown",
      "source": [
        "**Reflection**\n",
        "\n",
        "1. Assistance from ChatGPT:\n",
        "   ChatGPT provided valuable support during various stages of problem creation. It helped in brainstorming ideas, refining problem statements, and generating pseudocode for solutions. The natural language interaction made it easier to explore different problem scenarios and algorithmic concepts.\n",
        "\n",
        "2. Challenges in Maintaining the Spirit of the Example:\n",
        "   One of the main challenges faced was ensuring that the problems created maintained the educational spirit of the example. It was essential to strike a balance between complexity and clarity, making sure the problems were challenging yet solvable. Avoiding repetition and creating unique problem scenarios were also important to keep learners engaged.\n",
        "\n",
        "3. Lessons in Problem Design:\n",
        "   Through this task, I learned that problem design in the realm of algorithms requires careful consideration. Clarity in problem statements, correctness in solutions, and educational value are paramount. The problems should encourage learners to think critically, apply algorithms effectively, and understand the underlying concepts. Additionally, providing step-by-step justifications enhances the learning experience by explaining the reasoning behind the proposed solutions.\n",
        "\n"
      ],
      "metadata": {
        "id": "uhd8EPDU7I7k"
      }
    }
  ]
}